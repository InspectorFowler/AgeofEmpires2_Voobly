{
 "cells": [
  {
   "cell_type": "markdown",
   "metadata": {},
   "source": [
    "# __Fetch Voobly match details sequentially__#"
   ]
  },
  {
   "cell_type": "code",
   "execution_count": 1,
   "metadata": {
    "scrolled": true
   },
   "outputs": [],
   "source": [
    "from ipynb.fs.full.voobly_scraping_modules import voobly_login,setup_sql_conn,fetch_latest_match_id,fetch_matches_iterate\n",
    "from ipynb.fs.full.fetch_proxy_list import fetch_proxies\n",
    "from ipynb.fs.full.credentials import credentials"
   ]
  },
  {
   "cell_type": "code",
   "execution_count": 2,
   "metadata": {
    "scrolled": true
   },
   "outputs": [],
   "source": [
    "# Fetch proxy\n",
    "proxy, port = fetch_proxies()"
   ]
  },
  {
   "cell_type": "code",
   "execution_count": 3,
   "metadata": {},
   "outputs": [],
   "source": [
    "# Create connection instance\n",
    "username, password = credentials()\n",
    "instance = voobly_login(username,password,proxy, port)"
   ]
  },
  {
   "cell_type": "code",
   "execution_count": 4,
   "metadata": {},
   "outputs": [],
   "source": [
    "# Set up SQL connection\n",
    "db_conn,db_cursor,engine = setup_sql_conn()"
   ]
  },
  {
   "cell_type": "code",
   "execution_count": 5,
   "metadata": {},
   "outputs": [],
   "source": [
    "# Fetch last match ID downloaded\n",
    "match_id_start = fetch_latest_match_id(db_conn)+1"
   ]
  },
  {
   "cell_type": "code",
   "execution_count": null,
   "metadata": {
    "scrolled": true
   },
   "outputs": [
    {
     "name": "stderr",
     "output_type": "stream",
     "text": [
      "\r",
      "       0%|                                                            | 0/300000 [00:00<?, ?it/s]"
     ]
    },
    {
     "name": "stdout",
     "output_type": "stream",
     "text": [
      "Using proxy --> 159.224.37.181:35306\n"
     ]
    },
    {
     "name": "stderr",
     "output_type": "stream",
     "text": [
      "      32%|██████████████████▉                                         | 94859/300000 [13:45:33<36:29:32,  1.56it/s] "
     ]
    }
   ],
   "source": [
    "# Fetch more match details\n",
    "print(\"Using proxy --> \"+proxy+\":\"+port)\n",
    "fetch_matches_iterate(match_id_start,300000,instance,engine)"
   ]
  }
 ],
 "metadata": {
  "kernelspec": {
   "display_name": "Python 3",
   "language": "python",
   "name": "python3"
  },
  "language_info": {
   "codemirror_mode": {
    "name": "ipython",
    "version": 3
   },
   "file_extension": ".py",
   "mimetype": "text/x-python",
   "name": "python",
   "nbconvert_exporter": "python",
   "pygments_lexer": "ipython3",
   "version": "3.7.6"
  }
 },
 "nbformat": 4,
 "nbformat_minor": 4
}
