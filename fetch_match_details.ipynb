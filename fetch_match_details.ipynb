{
 "cells": [
  {
   "cell_type": "markdown",
   "metadata": {},
   "source": [
    "# __Fetch Voobly match details sequentially__#"
   ]
  },
  {
   "cell_type": "code",
   "execution_count": null,
   "metadata": {
    "scrolled": true
   },
   "outputs": [],
   "source": [
    "from ipynb.fs.full.voobly_scraping_modules import voobly_login,setup_sql_conn,fetch_latest_match_id,fetch_matches_iterate\n",
    "from ipynb.fs.full.fetch_proxy_list import fetch_proxies\n",
    "from ipynb.fs.full.credentials import credentials"
   ]
  },
  {
   "cell_type": "code",
   "execution_count": null,
   "metadata": {
    "scrolled": true
   },
   "outputs": [],
   "source": [
    "# Fetch proxy\n",
    "proxy, port = fetch_proxies()"
   ]
  },
  {
   "cell_type": "code",
   "execution_count": null,
   "metadata": {},
   "outputs": [],
   "source": [
    "# Create connection instance\n",
    "username, password = credentials()\n",
    "instance = voobly_login(username,password,proxy, port)"
   ]
  },
  {
   "cell_type": "code",
   "execution_count": null,
   "metadata": {},
   "outputs": [],
   "source": [
    "# Set up SQL connection\n",
    "db_conn,db_cursor,engine = setup_sql_conn()"
   ]
  },
  {
   "cell_type": "code",
   "execution_count": null,
   "metadata": {},
   "outputs": [],
   "source": [
    "# Fetch last match ID downloaded\n",
    "match_id_start = fetch_latest_match_id(db_conn)+1"
   ]
  },
  {
   "cell_type": "code",
   "execution_count": null,
   "metadata": {
    "scrolled": true
   },
   "outputs": [],
   "source": [
    "# Fetch more match details\n",
    "print(\"Using proxy --> \"+proxy+\":\"+port)\n",
    "fetch_matches_iterate(match_id_start,100000,instance,engine)"
   ]
  },
  {
   "cell_type": "markdown",
   "metadata": {},
   "source": [
    "# __Fetch Voobly match details parallely__#"
   ]
  },
  {
   "cell_type": "code",
   "execution_count": 8,
   "metadata": {},
   "outputs": [
    {
     "name": "stdout",
     "output_type": "stream",
     "text": [
      "Starting download from match id: 20661370\n",
      "\n"
     ]
    },
    {
     "name": "stderr",
     "output_type": "stream",
     "text": [
      "     100%|██████████████████████████████████████████████████████████████████████| 100/100 [00:33<00:00,  3.01it/s]\n"
     ]
    }
   ],
   "source": [
    "# Fetch more match details\n",
    "%run -i fetch_match_parallel.py 100 10"
   ]
  }
 ],
 "metadata": {
  "kernelspec": {
   "display_name": "Python 3",
   "language": "python",
   "name": "python3"
  },
  "language_info": {
   "codemirror_mode": {
    "name": "ipython",
    "version": 3
   },
   "file_extension": ".py",
   "mimetype": "text/x-python",
   "name": "python",
   "nbconvert_exporter": "python",
   "pygments_lexer": "ipython3",
   "version": "3.7.6"
  }
 },
 "nbformat": 4,
 "nbformat_minor": 4
}
