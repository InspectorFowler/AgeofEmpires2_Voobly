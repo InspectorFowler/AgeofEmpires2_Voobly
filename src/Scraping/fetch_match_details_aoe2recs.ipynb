{
 "cells": [
  {
   "cell_type": "markdown",
   "id": "425058e2",
   "metadata": {},
   "source": [
    "# __Fetch aoe2recs.com match details__"
   ]
  },
  {
   "cell_type": "markdown",
   "id": "ad5d84ef",
   "metadata": {},
   "source": [
    "### __Load libraries & source functions__"
   ]
  },
  {
   "cell_type": "code",
   "execution_count": null,
   "id": "d05891b1",
   "metadata": {
    "tags": []
   },
   "outputs": [],
   "source": [
    "# Libraries\n",
    "from pymongo import MongoClient\n",
    "\n",
    "from tqdm import tqdm\n",
    "from itertools import cycle\n",
    "from bs4 import BeautifulSoup\n",
    "import pandas as pd, numpy as np\n",
    "import os, math, random, time, warnings, json\n",
    "\n",
    "import requests, mechanize, http.cookiejar\n",
    "\n",
    "from joblib import Parallel, delayed\n",
    "\n",
    "pd.set_option('display.max_rows', 50)oc \n",
    "pd.set_option('display.max_columns', 500)\n",
    "pd.set_option('display.width', 1000)\n",
    "\n",
    "# Source\n",
    "%run aoe2rec_api_modules.ipynb"
   ]
  },
  {
   "cell_type": "markdown",
   "id": "b5f96396",
   "metadata": {},
   "source": [
    "### __Fetch match details__"
   ]
  },
  {
   "cell_type": "code",
   "execution_count": null,
   "id": "2bb25c4d",
   "metadata": {
    "tags": []
   },
   "outputs": [],
   "source": [
    "fetch_multiple_matches_iterate_aoe2recs(db_conn = setup_mongo_conn(), collect = 300000, batch_size = 50)"
   ]
  }
 ],
 "metadata": {
  "kernelspec": {
   "display_name": "Python 3",
   "language": "python",
   "name": "python3"
  },
  "language_info": {
   "codemirror_mode": {
    "name": "ipython",
    "version": 3
   },
   "file_extension": ".py",
   "mimetype": "text/x-python",
   "name": "python",
   "nbconvert_exporter": "python",
   "pygments_lexer": "ipython3",
   "version": "3.8.8"
  },
  "toc-autonumbering": false,
  "toc-showcode": false
 },
 "nbformat": 4,
 "nbformat_minor": 5
}
