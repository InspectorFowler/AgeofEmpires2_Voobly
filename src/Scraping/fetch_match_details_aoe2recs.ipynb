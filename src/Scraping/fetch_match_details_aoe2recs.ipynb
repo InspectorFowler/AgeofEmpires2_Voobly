{
 "cells": [
  {
   "cell_type": "markdown",
   "id": "36e7df60",
   "metadata": {},
   "source": [
    "# __Fetch aoe2recs.com match details sequentially__"
   ]
  },
  {
   "cell_type": "markdown",
   "id": "b4f41523",
   "metadata": {},
   "source": [
    "### __Load libraries__"
   ]
  },
  {
   "cell_type": "code",
   "execution_count": 2,
   "id": "529dc907",
   "metadata": {},
   "outputs": [],
   "source": [
    "from pymongo import MongoClient\n",
    "\n",
    "from tqdm import tqdm\n",
    "import requests\n",
    "import json\n",
    "import pandas as pd\n",
    "\n",
    "import multiprocessing\n",
    "from joblib import Parallel, delayed\n",
    "\n",
    "pd.set_option('display.max_rows', 500)\n",
    "pd.set_option('display.max_columns', 500)\n",
    "pd.set_option('display.width', 1000)"
   ]
  },
  {
   "cell_type": "markdown",
   "id": "2f68ce1f",
   "metadata": {},
   "source": [
    "### __Source functions__"
   ]
  },
  {
   "cell_type": "code",
   "execution_count": 4,
   "id": "52771564",
   "metadata": {},
   "outputs": [],
   "source": [
    "%run aoe2rec_api_modules.ipynb"
   ]
  },
  {
   "cell_type": "markdown",
   "id": "c90c02c0",
   "metadata": {},
   "source": [
    "### __Setup database connection__"
   ]
  },
  {
   "cell_type": "code",
   "execution_count": null,
   "id": "87fd03de",
   "metadata": {},
   "outputs": [],
   "source": [
    "db_conn = setup_mongo_conn()"
   ]
  },
  {
   "cell_type": "markdown",
   "id": "38dab42e",
   "metadata": {},
   "source": [
    "### __Fetch last matchID downloaded__"
   ]
  },
  {
   "cell_type": "code",
   "execution_count": null,
   "id": "3a70c1e3",
   "metadata": {},
   "outputs": [],
   "source": [
    "match_start_id = fetch_latest_match_id_aoe2recs(db_conn) + 1"
   ]
  },
  {
   "cell_type": "markdown",
   "id": "76923590",
   "metadata": {},
   "source": [
    "### __Fetch match details__"
   ]
  },
  {
   "cell_type": "code",
   "execution_count": null,
   "id": "12d79532",
   "metadata": {},
   "outputs": [],
   "source": [
    "fetch_matches_iterate_aoe2recs(match_start_id, 30000, 1)"
   ]
  }
 ],
 "metadata": {
  "kernelspec": {
   "display_name": "Python 3",
   "language": "python",
   "name": "python3"
  },
  "language_info": {
   "codemirror_mode": {
    "name": "ipython",
    "version": 3
   },
   "file_extension": ".py",
   "mimetype": "text/x-python",
   "name": "python",
   "nbconvert_exporter": "python",
   "pygments_lexer": "ipython3",
   "version": "3.8.8"
  },
  "toc-autonumbering": false,
  "toc-showcode": false
 },
 "nbformat": 4,
 "nbformat_minor": 5
}
