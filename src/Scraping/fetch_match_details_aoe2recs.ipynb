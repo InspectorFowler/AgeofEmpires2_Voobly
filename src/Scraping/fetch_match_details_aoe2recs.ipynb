{
 "cells": [
  {
   "cell_type": "markdown",
   "id": "69e63c40",
   "metadata": {},
   "source": [
    "# __Fetch aoe2recs.com match details sequentially__"
   ]
  },
  {
   "cell_type": "markdown",
   "id": "c8c8e73a",
   "metadata": {},
   "source": [
    "### __Load libraries__"
   ]
  },
  {
   "cell_type": "code",
   "execution_count": null,
   "id": "e489f106",
   "metadata": {},
   "outputs": [],
   "source": [
    "from pymongo import MongoClient\n",
    "\n",
    "import requests\n",
    "import json\n",
    "import pandas as pd"
   ]
  },
  {
   "cell_type": "markdown",
   "id": "99aeb480",
   "metadata": {},
   "source": [
    "### __Source functions__"
   ]
  },
  {
   "cell_type": "code",
   "execution_count": null,
   "id": "e4c61a69",
   "metadata": {},
   "outputs": [],
   "source": [
    "%run aoe2rec_api_modules.ipynb"
   ]
  },
  {
   "cell_type": "markdown",
   "id": "4ecfddb4",
   "metadata": {},
   "source": [
    "### __Setup database connection__"
   ]
  },
  {
   "cell_type": "code",
   "execution_count": null,
   "id": "6968d679",
   "metadata": {},
   "outputs": [],
   "source": [
    "db_conn = setup_mongo_conn()"
   ]
  },
  {
   "cell_type": "markdown",
   "id": "071c2095",
   "metadata": {},
   "source": [
    "### __Fetch match details__"
   ]
  },
  {
   "cell_type": "code",
   "execution_count": null,
   "id": "310b8dc9",
   "metadata": {},
   "outputs": [],
   "source": [
    "match_data = fetch_match_details_aoe2recs(12, query)\n",
    "insert_match_mongo(match_data,db_conn)"
   ]
  }
 ],
 "metadata": {
  "kernelspec": {
   "display_name": "Python 3",
   "language": "python",
   "name": "python3"
  },
  "language_info": {
   "codemirror_mode": {
    "name": "ipython",
    "version": 3
   },
   "file_extension": ".py",
   "mimetype": "text/x-python",
   "name": "python",
   "nbconvert_exporter": "python",
   "pygments_lexer": "ipython3",
   "version": "3.7.10"
  }
 },
 "nbformat": 4,
 "nbformat_minor": 5
}
