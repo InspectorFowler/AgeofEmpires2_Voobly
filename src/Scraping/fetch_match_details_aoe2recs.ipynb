{
 "cells": [
  {
   "cell_type": "markdown",
   "id": "36e7df60",
   "metadata": {},
   "source": [
    "# __Fetch aoe2recs.com match details parallely__"
   ]
  },
  {
   "cell_type": "markdown",
   "id": "b4f41523",
   "metadata": {},
   "source": [
    "### __Load libraries__"
   ]
  },
  {
   "cell_type": "code",
   "execution_count": 1,
   "id": "529dc907",
   "metadata": {
    "tags": []
   },
   "outputs": [],
   "source": [
    "from pymongo import MongoClient\n",
    "\n",
    "from tqdm import tqdm\n",
    "\n",
    "from bs4 import BeautifulSoup\n",
    "import json\n",
    "import pandas as pd\n",
    "import numpy as np\n",
    "import os\n",
    "import random\n",
    "\n",
    "from requests_ip_rotator import ApiGateway\n",
    "import requests\n",
    "import mechanize\n",
    "import http.cookiejar\n",
    "import random\n",
    "import warnings\n",
    "\n",
    "import multiprocessing\n",
    "from joblib import Parallel, delayed\n",
    "\n",
    "cores =  20 # API rate limiter forces to use 20\n",
    "pd.set_option('display.max_rows', 50)\n",
    "pd.set_option('display.max_columns', 500)\n",
    "pd.set_option('display.width', 1000)"
   ]
  },
  {
   "cell_type": "markdown",
   "id": "2f68ce1f",
   "metadata": {},
   "source": [
    "### __Source functions__"
   ]
  },
  {
   "cell_type": "code",
   "execution_count": 2,
   "id": "52771564",
   "metadata": {},
   "outputs": [],
   "source": [
    "%run aoe2rec_api_modules.ipynb"
   ]
  },
  {
   "cell_type": "markdown",
   "id": "f931f9cc-026b-47ca-b04a-2be94840bd16",
   "metadata": {},
   "source": [
    "### __Fetch proxies & user agents__"
   ]
  },
  {
   "cell_type": "code",
   "execution_count": 3,
   "id": "a329d278-5705-4c88-9f82-3454c074b05f",
   "metadata": {},
   "outputs": [],
   "source": [
    "proxy_list = fetch_proxies(https = False)\n",
    "uas_list = fetch_user_agents()"
   ]
  },
  {
   "cell_type": "markdown",
   "id": "f6d9e228-4e77-448f-9cfa-a867644ba8a6",
   "metadata": {},
   "source": [
    "### __Set up mongo connection__"
   ]
  },
  {
   "cell_type": "code",
   "execution_count": 4,
   "id": "1a1d062e-ec2f-4468-9748-41cbc9a79a3e",
   "metadata": {},
   "outputs": [],
   "source": [
    "db_conn = setup_mongo_conn()"
   ]
  },
  {
   "cell_type": "markdown",
   "id": "01cbc0f9-cf51-4efa-bab3-4872c3c52bed",
   "metadata": {},
   "source": [
    "### __Delete invalid matches__"
   ]
  },
  {
   "cell_type": "code",
   "execution_count": 5,
   "id": "d615f3fe-8365-438d-91ba-980925f07108",
   "metadata": {},
   "outputs": [
    {
     "name": "stdout",
     "output_type": "stream",
     "text": [
      "Invalid entries deleted !\n"
     ]
    }
   ],
   "source": [
    "delete_invalid_match_mongo(db_conn)"
   ]
  },
  {
   "cell_type": "markdown",
   "id": "76923590",
   "metadata": {},
   "source": [
    "### __Fetch match details__"
   ]
  },
  {
   "cell_type": "code",
   "execution_count": null,
   "id": "12d79532",
   "metadata": {
    "tags": []
   },
   "outputs": [],
   "source": [
    "# Choose between fetching new matches or missing ones\n",
    "# Optionally delete bad records - id = -999\n",
    "\n",
    "for index, row in proxy_list.iterrows():\n",
    "    \n",
    "    ip = 'http://' + row['IP Address'] + ':' + str(row['Port'])\n",
    "    proxy = {'http' : ip}\n",
    "    ua = uas_list.sample()['User agent'].iloc[0]\n",
    "    \n",
    "    print(ip + \" -- \" + ua)\n",
    "    \n",
    "    try:\n",
    "        fetch_matches_iterate_aoe2recs(db_conn, collect = cores, type = 'new', clean_empty = False, \n",
    "                                       cores = cores, proxy = proxy, ua = ua, progress_bar = False)\n",
    "    except:\n",
    "        print('Skipping to next IP !')\n",
    "        pass"
   ]
  }
 ],
 "metadata": {
  "kernelspec": {
   "display_name": "Python 3",
   "language": "python",
   "name": "python3"
  },
  "language_info": {
   "codemirror_mode": {
    "name": "ipython",
    "version": 3
   },
   "file_extension": ".py",
   "mimetype": "text/x-python",
   "name": "python",
   "nbconvert_exporter": "python",
   "pygments_lexer": "ipython3",
   "version": "3.8.8"
  },
  "toc-autonumbering": false,
  "toc-showcode": false
 },
 "nbformat": 4,
 "nbformat_minor": 5
}
