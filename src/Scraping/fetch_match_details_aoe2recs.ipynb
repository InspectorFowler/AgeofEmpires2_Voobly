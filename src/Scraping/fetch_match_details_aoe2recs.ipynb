{
 "cells": [
  {
   "cell_type": "markdown",
   "id": "36e7df60",
   "metadata": {},
   "source": [
    "# __Fetch aoe2recs.com match details parallely__"
   ]
  },
  {
   "cell_type": "markdown",
   "id": "b4f41523",
   "metadata": {},
   "source": [
    "### __Load libraries__"
   ]
  },
  {
   "cell_type": "code",
   "execution_count": 1,
   "id": "529dc907",
   "metadata": {},
   "outputs": [],
   "source": [
    "from pymongo import MongoClient\n",
    "\n",
    "from tqdm import tqdm\n",
    "import requests\n",
    "import json\n",
    "import pandas as pd\n",
    "import numpy as np\n",
    "import os\n",
    "\n",
    "import multiprocessing\n",
    "from joblib import Parallel, delayed\n",
    "\n",
    "cores = os.cpu_count() - 4\n",
    "pd.set_option('display.max_rows', 500)\n",
    "pd.set_option('display.max_columns', 500)\n",
    "pd.set_option('display.width', 1000)"
   ]
  },
  {
   "cell_type": "markdown",
   "id": "2f68ce1f",
   "metadata": {},
   "source": [
    "### __Source functions__"
   ]
  },
  {
   "cell_type": "code",
   "execution_count": 2,
   "id": "52771564",
   "metadata": {},
   "outputs": [],
   "source": [
    "%run aoe2rec_api_modules.ipynb"
   ]
  },
  {
   "cell_type": "markdown",
   "id": "76923590",
   "metadata": {},
   "source": [
    "### __Fetch match details__"
   ]
  },
  {
   "cell_type": "code",
   "execution_count": null,
   "id": "12d79532",
   "metadata": {
    "tags": []
   },
   "outputs": [
    {
     "name": "stderr",
     "output_type": "stream",
     "text": [
      "       4%|██▌                                                         | 868/20550 [01:16<31:54, 10.28it/s]"
     ]
    }
   ],
   "source": [
    "# Choose between fetching new matches or missing ones\n",
    "# Optionally delete bad records - id = -999\n",
    "\n",
    "fetch_matches_iterate_aoe2recs(db_conn = setup_mongo_conn(), collect = 300000, type = 'missing', clean_empty = True, cores = cores)"
   ]
  }
 ],
 "metadata": {
  "kernelspec": {
   "display_name": "Python 3",
   "language": "python",
   "name": "python3"
  },
  "language_info": {
   "codemirror_mode": {
    "name": "ipython",
    "version": 3
   },
   "file_extension": ".py",
   "mimetype": "text/x-python",
   "name": "python",
   "nbconvert_exporter": "python",
   "pygments_lexer": "ipython3",
   "version": "3.8.8"
  },
  "toc-autonumbering": false,
  "toc-showcode": false
 },
 "nbformat": 4,
 "nbformat_minor": 5
}
