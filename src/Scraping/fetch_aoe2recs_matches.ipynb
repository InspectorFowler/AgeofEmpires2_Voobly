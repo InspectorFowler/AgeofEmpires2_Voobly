{
 "cells": [
  {
   "cell_type": "markdown",
   "id": "425058e2",
   "metadata": {},
   "source": [
    "# __Fetch aoe2recs.com match details__"
   ]
  },
  {
   "cell_type": "markdown",
   "id": "ad5d84ef",
   "metadata": {},
   "source": [
    "### __Load dependencies__"
   ]
  },
  {
   "cell_type": "code",
   "execution_count": 2,
   "id": "d05891b1",
   "metadata": {
    "tags": []
   },
   "outputs": [],
   "source": [
    "# Modules\n",
    "from aoe2rec_api_modules import *\n",
    "\n",
    "# Set notebook options\n",
    "%load_ext autoreload\n",
    "%autoreload 2\n",
    "\n",
    "warnings.filterwarnings('ignore')\n",
    "pd.set_option('display.max_rows', 500)\n",
    "pd.set_option('display.max_columns', 500)\n",
    "pd.set_option('display.width', 1000)"
   ]
  },
  {
   "cell_type": "markdown",
   "id": "1b74e5d3-ddee-4767-ba64-9e2880aa040c",
   "metadata": {},
   "source": [
    "### __Program setup__"
   ]
  },
  {
   "cell_type": "code",
   "execution_count": 3,
   "id": "b05936a4-dec3-4873-81d4-7d294bf39c1d",
   "metadata": {},
   "outputs": [],
   "source": [
    "db_conn = setup_mongo_conn()"
   ]
  },
  {
   "cell_type": "markdown",
   "id": "b5f96396",
   "metadata": {},
   "source": [
    "### __Fetch match details__"
   ]
  },
  {
   "cell_type": "code",
   "execution_count": null,
   "id": "2bb25c4d",
   "metadata": {
    "tags": []
   },
   "outputs": [
    {
     "name": "stdout",
     "output_type": "stream",
     "text": [
      "Invalid entries deleted !\n",
      "\n",
      "Fetch proxy list\n",
      "\n",
      "Fetch user agent list\n"
     ]
    },
    {
     "name": "stderr",
     "output_type": "stream",
     "text": [
      "       0%|                                                            | 7/6001 [01:01<15:54:22,  9.55s/it]"
     ]
    }
   ],
   "source": [
    "fetch_multiple_matches_iterate_aoe2recs(db_conn, collect = 300000, batch_size = 50)"
   ]
  }
 ],
 "metadata": {
  "kernelspec": {
   "display_name": "Python 3",
   "language": "python",
   "name": "python3"
  },
  "language_info": {
   "codemirror_mode": {
    "name": "ipython",
    "version": 3
   },
   "file_extension": ".py",
   "mimetype": "text/x-python",
   "name": "python",
   "nbconvert_exporter": "python",
   "pygments_lexer": "ipython3",
   "version": "3.8.8"
  },
  "toc-autonumbering": false,
  "toc-showcode": false
 },
 "nbformat": 4,
 "nbformat_minor": 5
}
