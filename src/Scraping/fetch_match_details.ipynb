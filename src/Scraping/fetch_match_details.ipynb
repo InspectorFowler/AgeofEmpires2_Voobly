{
 "cells": [
  {
   "cell_type": "markdown",
   "metadata": {},
   "source": [
    "# __Fetch Voobly match details parallely__"
   ]
  },
  {
   "cell_type": "markdown",
   "metadata": {},
   "source": [
    "### __Load dependencies__"
   ]
  },
  {
   "cell_type": "code",
   "execution_count": 2,
   "metadata": {
    "tags": []
   },
   "outputs": [],
   "source": [
    "# Modules\n",
    "from voobly_scraping_modules import *\n",
    "\n",
    "# Parallellism\n",
    "from multiprocessing import Pool\n",
    "cores = os.cpu_count() - 4\n",
    "\n",
    "# Set notebook options\n",
    "%load_ext autoreload\n",
    "%autoreload 2\n",
    "\n",
    "warnings.filterwarnings('ignore')\n",
    "pd.set_option('display.max_rows', 500)\n",
    "pd.set_option('display.max_columns', 500)\n",
    "pd.set_option('display.width', 1000)"
   ]
  },
  {
   "cell_type": "markdown",
   "metadata": {},
   "source": [
    "### __Program setup__"
   ]
  },
  {
   "cell_type": "code",
   "execution_count": 3,
   "metadata": {
    "scrolled": true
   },
   "outputs": [],
   "source": [
    "# Proxies\n",
    "proxy, port = fetch_proxies()\n",
    "\n",
    "# Voobly connection\n",
    "instance = voobly_login(os.environ['voobly_username'],os.environ['voobly_password'],proxy, port)\n",
    "\n",
    "# Database connection\n",
    "db_conn,engine = setup_sql_conn()"
   ]
  },
  {
   "cell_type": "markdown",
   "metadata": {},
   "source": [
    "### __Fetch match details__"
   ]
  },
  {
   "cell_type": "code",
   "execution_count": null,
   "metadata": {
    "tags": []
   },
   "outputs": [],
   "source": [
    "# Running the match fetching scripts parallely & indefinetly, ultimately takes up all the resources even with lesser number of total CPU cores. \n",
    "# and eventually kills the process and the system. To circumnavigate, we fetch match details in bacthes and stop after every 'n' records fetched.\n",
    "# This invokes the inbuilt garbage collector and free's up resources. The setting of 80000 matches was seen to be performing the best on my machine.\n",
    "\n",
    "# TODO : Debug and manually do gc so that while loop counter is not required. "
   ]
  },
  {
   "cell_type": "code",
   "execution_count": null,
   "metadata": {},
   "outputs": [],
   "source": [
    "def fetch(match_id):\n",
    "    \n",
    "    instance = voobly_login(os.environ['voobly_username'],os.environ['voobly_password'])\n",
    "    db_conn, engine = setup_sql_conn()\n",
    "    fetch_matches_write(match_id,instance,engine)   \n",
    "\n",
    "start = 23606548\n",
    "collect = 80000\n",
    "matches = range(start,start+collect)     "
   ]
  },
  {
   "cell_type": "code",
   "execution_count": null,
   "metadata": {},
   "outputs": [],
   "source": [
    "if __name__ == '__main__':\n",
    "    with Pool(cores) as p:\n",
    "        res = list(tqdm(p.imap(fetch, matches), total = collect))"
   ]
  }
 ],
 "metadata": {
  "kernelspec": {
   "display_name": "Python 3",
   "language": "python",
   "name": "python3"
  },
  "language_info": {
   "codemirror_mode": {
    "name": "ipython",
    "version": 3
   },
   "file_extension": ".py",
   "mimetype": "text/x-python",
   "name": "python",
   "nbconvert_exporter": "python",
   "pygments_lexer": "ipython3",
   "version": "3.8.8"
  },
  "toc-autonumbering": false,
  "toc-showcode": false,
  "toc-showmarkdowntxt": true
 },
 "nbformat": 4,
 "nbformat_minor": 4
}
