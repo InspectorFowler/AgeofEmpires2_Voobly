{
 "cells": [
  {
   "cell_type": "markdown",
   "metadata": {},
   "source": [
    "# __Fetch Voobly match details sequentially__"
   ]
  },
  {
   "cell_type": "markdown",
   "metadata": {},
   "source": [
    "### __Load libraries__"
   ]
  },
  {
   "cell_type": "code",
   "execution_count": 7,
   "metadata": {
    "tags": []
   },
   "outputs": [],
   "source": [
    "import pyodbc\n",
    "from sqlalchemy import create_engine\n",
    "import mysql.connector\n",
    "\n",
    "from multiprocess import Pool\n",
    "\n",
    "import os\n",
    "import pandas as pd\n",
    "import numpy as np\n",
    "import re\n",
    "from functools import reduce\n",
    "import datetime\n",
    "from datetime import date, timedelta\n",
    "\n",
    "from tqdm import tqdm\n",
    "\n",
    "from bs4 import BeautifulSoup\n",
    "import mechanize\n",
    "import http.cookiejar\n",
    "import requests\n",
    "\n",
    "import random\n",
    "import warnings\n",
    "warnings.filterwarnings('ignore')\n",
    "\n",
    "cores = os.cpu_count() - 6\n",
    "pd.set_option('display.max_rows', 500)\n",
    "pd.set_option('display.max_columns', 500)\n",
    "pd.set_option('display.width', 1000)"
   ]
  },
  {
   "cell_type": "markdown",
   "metadata": {},
   "source": [
    "### __Source functions__"
   ]
  },
  {
   "cell_type": "code",
   "execution_count": 8,
   "metadata": {},
   "outputs": [],
   "source": [
    "%run credentials.ipynb\n",
    "%run voobly_scraping_modules.ipynb"
   ]
  },
  {
   "cell_type": "markdown",
   "metadata": {},
   "source": [
    "### __Setup proxy connection__"
   ]
  },
  {
   "cell_type": "code",
   "execution_count": 9,
   "metadata": {
    "scrolled": true
   },
   "outputs": [],
   "source": [
    "proxy, port = fetch_proxies()"
   ]
  },
  {
   "cell_type": "markdown",
   "metadata": {},
   "source": [
    "### __Setup voobly connection__"
   ]
  },
  {
   "cell_type": "code",
   "execution_count": 10,
   "metadata": {},
   "outputs": [],
   "source": [
    "username, password = credentials()\n",
    "instance = voobly_login(username,password,proxy, port)"
   ]
  },
  {
   "cell_type": "markdown",
   "metadata": {},
   "source": [
    "### __Setup database connection__"
   ]
  },
  {
   "cell_type": "code",
   "execution_count": 11,
   "metadata": {},
   "outputs": [],
   "source": [
    "db_conn,engine = setup_sql_conn()"
   ]
  },
  {
   "cell_type": "markdown",
   "metadata": {},
   "source": [
    "### __Fetch match details__"
   ]
  },
  {
   "cell_type": "code",
   "execution_count": null,
   "metadata": {},
   "outputs": [
    {
     "name": "stdout",
     "output_type": "stream",
     "text": [
      "1\n"
     ]
    },
    {
     "name": "stderr",
     "output_type": "stream",
     "text": [
      "       0%|                                                            | 72959/? [2:48:25<00:00,  6.70it/s]"
     ]
    }
   ],
   "source": [
    "# Running the match fetching scripts parallely & indefinetly, ultimately takes up all the resources even with lesser number of total CPU cores. \n",
    "# and eventually kills the process and the system. To circumnavigate, we fetch match details in bacthes and stop after every 'n' records fetched.\n",
    "# This invokes the inbuilt garbage collector and free's up resources. The setting of 80000 matches was seen to be performing the best on my machine.\n",
    "\n",
    "# TODO : Debug and manually do gc so that while loop counter is not required. \n",
    "i = 1\n",
    "\n",
    "while i >=1 :\n",
    "    \n",
    "    print(i)\n",
    "    match_id_start = fetch_latest_match_id(db_conn)+1\n",
    "    fetch_matches_iterate(match_id_start,80000,cores = cores)\n",
    "    i+=1"
   ]
  }
 ],
 "metadata": {
  "kernelspec": {
   "display_name": "Python 3",
   "language": "python",
   "name": "python3"
  },
  "language_info": {
   "codemirror_mode": {
    "name": "ipython",
    "version": 3
   },
   "file_extension": ".py",
   "mimetype": "text/x-python",
   "name": "python",
   "nbconvert_exporter": "python",
   "pygments_lexer": "ipython3",
   "version": "3.8.5"
  },
  "toc-autonumbering": false,
  "toc-showcode": false,
  "toc-showmarkdowntxt": true
 },
 "nbformat": 4,
 "nbformat_minor": 4
}
