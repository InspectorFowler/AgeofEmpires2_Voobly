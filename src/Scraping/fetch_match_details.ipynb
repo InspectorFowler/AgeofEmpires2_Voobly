{
 "cells": [
  {
   "cell_type": "markdown",
   "metadata": {},
   "source": [
    "# __Fetch Voobly match details sequentially__"
   ]
  },
  {
   "cell_type": "markdown",
   "metadata": {},
   "source": [
    "### __Load libraries__"
   ]
  },
  {
   "cell_type": "code",
   "execution_count": 1,
   "metadata": {},
   "outputs": [],
   "source": [
    "import pyodbc\n",
    "from sqlalchemy import create_engine\n",
    "import mysql.connector\n",
    "\n",
    "import os\n",
    "import pandas as pd\n",
    "import numpy as np\n",
    "import re\n",
    "from functools import reduce\n",
    "import datetime\n",
    "from datetime import date, timedelta\n",
    "\n",
    "from tqdm import tqdm\n",
    "\n",
    "from bs4 import BeautifulSoup\n",
    "import mechanize\n",
    "import http.cookiejar\n",
    "import requests\n",
    "\n",
    "import random\n",
    "import warnings\n",
    "warnings.filterwarnings('ignore')\n",
    "\n",
    "pd.set_option('display.max_rows', 500)\n",
    "pd.set_option('display.max_columns', 500)\n",
    "pd.set_option('display.width', 1000)"
   ]
  },
  {
   "cell_type": "markdown",
   "metadata": {},
   "source": [
    "### __Source functions__"
   ]
  },
  {
   "cell_type": "code",
   "execution_count": 2,
   "metadata": {},
   "outputs": [],
   "source": [
    "%run credentials.ipynb\n",
    "%run voobly_scraping_modules.ipynb"
   ]
  },
  {
   "cell_type": "markdown",
   "metadata": {},
   "source": [
    "### __Setup proxy connection__"
   ]
  },
  {
   "cell_type": "code",
   "execution_count": 6,
   "metadata": {
    "scrolled": true
   },
   "outputs": [],
   "source": [
    "proxy, port = fetch_proxies()"
   ]
  },
  {
   "cell_type": "markdown",
   "metadata": {},
   "source": [
    "### __Setup voobly connection__"
   ]
  },
  {
   "cell_type": "code",
   "execution_count": 7,
   "metadata": {},
   "outputs": [],
   "source": [
    "username, password = credentials()\n",
    "instance = voobly_login(username,password,proxy, port)"
   ]
  },
  {
   "cell_type": "markdown",
   "metadata": {},
   "source": [
    "### __Setup database connection__"
   ]
  },
  {
   "cell_type": "code",
   "execution_count": 17,
   "metadata": {},
   "outputs": [],
   "source": [
    "db_conn,db_cursor,engine = setup_sql_conn()"
   ]
  },
  {
   "cell_type": "markdown",
   "metadata": {},
   "source": [
    "### __Fetch last matchID downloaded__"
   ]
  },
  {
   "cell_type": "code",
   "execution_count": null,
   "metadata": {
    "tags": []
   },
   "outputs": [],
   "source": [
    "match_id_start = fetch_latest_match_id(db_conn)+1"
   ]
  },
  {
   "cell_type": "markdown",
   "metadata": {},
   "source": [
    "### __Fetch more match details__"
   ]
  },
  {
   "cell_type": "code",
   "execution_count": 23,
   "metadata": {
    "scrolled": true,
    "tags": []
   },
   "outputs": [
    {
     "name": "stderr",
     "output_type": "stream",
     "text": [
      "       0%|                                                            | 0/5 [00:01<?, ?it/s]\n"
     ]
    },
    {
     "ename": "TypeError",
     "evalue": "__init__() got an unexpected keyword argument 'driver'",
     "output_type": "error",
     "traceback": [
      "\u001b[0;31m---------------------------------------------------------------------------\u001b[0m\n\u001b[0;31mTypeError\u001b[0m                                 Traceback (most recent call last)",
      "File \u001b[0;34m/home/nemecys/anaconda3/lib/python3.7/site-packages/IPython/core/interactiveshell.py\u001b[0m, in \u001b[0;32mrun_code\u001b[0m:\nLine \u001b[0;34m3437\u001b[0m:  exec(code_obj, \u001b[36mself\u001b[39;49;00m.user_global_ns, \u001b[36mself\u001b[39;49;00m.user_ns)\n",
      "In  \u001b[0;34m[23]\u001b[0m:\nLine \u001b[0;34m1\u001b[0m:     fetch_matches_iterate(\u001b[34m21570708\u001b[39;49;00m,\u001b[34m5\u001b[39;49;00m,instance,engine)\n",
      "In  \u001b[0;34m[22]\u001b[0m:\nLine \u001b[0;34m43\u001b[0m:    obj.to_sql(\u001b[33m'\u001b[39;49;00m\u001b[33mUNKNOWN_FAILS\u001b[39;49;00m\u001b[33m'\u001b[39;49;00m,con=engine, if_exists=\u001b[33m\"\u001b[39;49;00m\u001b[33mappend\u001b[39;49;00m\u001b[33m\"\u001b[39;49;00m,index=\u001b[34mFalse\u001b[39;49;00m)\n",
      "File \u001b[0;34m/home/nemecys/anaconda3/lib/python3.7/site-packages/pandas/core/generic.py\u001b[0m, in \u001b[0;32mto_sql\u001b[0m:\nLine \u001b[0;34m2789\u001b[0m:  method=method,\n",
      "File \u001b[0;34m/home/nemecys/anaconda3/lib/python3.7/site-packages/pandas/io/sql.py\u001b[0m, in \u001b[0;32mto_sql\u001b[0m:\nLine \u001b[0;34m599\u001b[0m:   method=method,\n",
      "File \u001b[0;34m/home/nemecys/anaconda3/lib/python3.7/site-packages/pandas/io/sql.py\u001b[0m, in \u001b[0;32mto_sql\u001b[0m:\nLine \u001b[0;34m1392\u001b[0m:  table.create()\n",
      "File \u001b[0;34m/home/nemecys/anaconda3/lib/python3.7/site-packages/pandas/io/sql.py\u001b[0m, in \u001b[0;32mcreate\u001b[0m:\nLine \u001b[0;34m722\u001b[0m:   \u001b[34mif\u001b[39;49;00m \u001b[36mself\u001b[39;49;00m.exists():\n",
      "File \u001b[0;34m/home/nemecys/anaconda3/lib/python3.7/site-packages/pandas/io/sql.py\u001b[0m, in \u001b[0;32mexists\u001b[0m:\nLine \u001b[0;34m709\u001b[0m:   \u001b[34mreturn\u001b[39;49;00m \u001b[36mself\u001b[39;49;00m.pd_sql.has_table(\u001b[36mself\u001b[39;49;00m.name, \u001b[36mself\u001b[39;49;00m.schema)\n",
      "File \u001b[0;34m/home/nemecys/anaconda3/lib/python3.7/site-packages/pandas/io/sql.py\u001b[0m, in \u001b[0;32mhas_table\u001b[0m:\nLine \u001b[0;34m1430\u001b[0m:  \u001b[36mself\u001b[39;49;00m.connectable.dialect.has_table, name, schema \u001b[35mor\u001b[39;49;00m \u001b[36mself\u001b[39;49;00m.meta.schema\n",
      "File \u001b[0;34m/home/nemecys/anaconda3/lib/python3.7/site-packages/sqlalchemy/util/deprecations.py\u001b[0m, in \u001b[0;32mwarned\u001b[0m:\nLine \u001b[0;34m390\u001b[0m:   \u001b[34mreturn\u001b[39;49;00m fn(*args, **kwargs)\n",
      "File \u001b[0;34m/home/nemecys/anaconda3/lib/python3.7/site-packages/sqlalchemy/engine/base.py\u001b[0m, in \u001b[0;32mrun_callable\u001b[0m:\nLine \u001b[0;34m3003\u001b[0m:  \u001b[34mwith\u001b[39;49;00m \u001b[36mself\u001b[39;49;00m.connect() \u001b[34mas\u001b[39;49;00m conn:\n",
      "File \u001b[0;34m/home/nemecys/anaconda3/lib/python3.7/site-packages/sqlalchemy/engine/base.py\u001b[0m, in \u001b[0;32mconnect\u001b[0m:\nLine \u001b[0;34m3095\u001b[0m:  \u001b[34mreturn\u001b[39;49;00m \u001b[36mself\u001b[39;49;00m._connection_cls(\u001b[36mself\u001b[39;49;00m, close_with_result=close_with_result)\n",
      "File \u001b[0;34m/home/nemecys/anaconda3/lib/python3.7/site-packages/sqlalchemy/engine/base.py\u001b[0m, in \u001b[0;32m__init__\u001b[0m:\nLine \u001b[0;34m91\u001b[0m:    \u001b[34melse\u001b[39;49;00m engine.raw_connection()\n",
      "File \u001b[0;34m/home/nemecys/anaconda3/lib/python3.7/site-packages/sqlalchemy/engine/base.py\u001b[0m, in \u001b[0;32mraw_connection\u001b[0m:\nLine \u001b[0;34m3174\u001b[0m:  \u001b[34mreturn\u001b[39;49;00m \u001b[36mself\u001b[39;49;00m._wrap_pool_connect(\u001b[36mself\u001b[39;49;00m.pool.connect, _connection)\n",
      "File \u001b[0;34m/home/nemecys/anaconda3/lib/python3.7/site-packages/sqlalchemy/engine/base.py\u001b[0m, in \u001b[0;32m_wrap_pool_connect\u001b[0m:\nLine \u001b[0;34m3141\u001b[0m:  \u001b[34mreturn\u001b[39;49;00m fn()\n",
      "File \u001b[0;34m/home/nemecys/anaconda3/lib/python3.7/site-packages/sqlalchemy/pool/base.py\u001b[0m, in \u001b[0;32mconnect\u001b[0m:\nLine \u001b[0;34m301\u001b[0m:   \u001b[34mreturn\u001b[39;49;00m _ConnectionFairy._checkout(\u001b[36mself\u001b[39;49;00m)\n",
      "File \u001b[0;34m/home/nemecys/anaconda3/lib/python3.7/site-packages/sqlalchemy/pool/base.py\u001b[0m, in \u001b[0;32m_checkout\u001b[0m:\nLine \u001b[0;34m755\u001b[0m:   fairy = _ConnectionRecord.checkout(pool)\n",
      "File \u001b[0;34m/home/nemecys/anaconda3/lib/python3.7/site-packages/sqlalchemy/pool/base.py\u001b[0m, in \u001b[0;32mcheckout\u001b[0m:\nLine \u001b[0;34m419\u001b[0m:   rec = pool._do_get()\n",
      "File \u001b[0;34m/home/nemecys/anaconda3/lib/python3.7/site-packages/sqlalchemy/pool/impl.py\u001b[0m, in \u001b[0;32m_do_get\u001b[0m:\nLine \u001b[0;34m145\u001b[0m:   \u001b[36mself\u001b[39;49;00m._dec_overflow()\n",
      "File \u001b[0;34m/home/nemecys/anaconda3/lib/python3.7/site-packages/sqlalchemy/util/langhelpers.py\u001b[0m, in \u001b[0;32m__exit__\u001b[0m:\nLine \u001b[0;34m72\u001b[0m:    with_traceback=exc_tb,\n",
      "File \u001b[0;34m/home/nemecys/anaconda3/lib/python3.7/site-packages/sqlalchemy/util/compat.py\u001b[0m, in \u001b[0;32mraise_\u001b[0m:\nLine \u001b[0;34m211\u001b[0m:   \u001b[34mraise\u001b[39;49;00m exception\n",
      "File \u001b[0;34m/home/nemecys/anaconda3/lib/python3.7/site-packages/sqlalchemy/pool/impl.py\u001b[0m, in \u001b[0;32m_do_get\u001b[0m:\nLine \u001b[0;34m142\u001b[0m:   \u001b[34mreturn\u001b[39;49;00m \u001b[36mself\u001b[39;49;00m._create_connection()\n",
      "File \u001b[0;34m/home/nemecys/anaconda3/lib/python3.7/site-packages/sqlalchemy/pool/base.py\u001b[0m, in \u001b[0;32m_create_connection\u001b[0m:\nLine \u001b[0;34m247\u001b[0m:   \u001b[34mreturn\u001b[39;49;00m _ConnectionRecord(\u001b[36mself\u001b[39;49;00m)\n",
      "File \u001b[0;34m/home/nemecys/anaconda3/lib/python3.7/site-packages/sqlalchemy/pool/base.py\u001b[0m, in \u001b[0;32m__init__\u001b[0m:\nLine \u001b[0;34m362\u001b[0m:   \u001b[36mself\u001b[39;49;00m.__connect(first_connect_check=\u001b[34mTrue\u001b[39;49;00m)\n",
      "File \u001b[0;34m/home/nemecys/anaconda3/lib/python3.7/site-packages/sqlalchemy/pool/base.py\u001b[0m, in \u001b[0;32m__connect\u001b[0m:\nLine \u001b[0;34m605\u001b[0m:   pool.logger.debug(\u001b[33m\"\u001b[39;49;00m\u001b[33mError on connect(): \u001b[39;49;00m\u001b[33m%s\u001b[39;49;00m\u001b[33m\"\u001b[39;49;00m, e)\n",
      "File \u001b[0;34m/home/nemecys/anaconda3/lib/python3.7/site-packages/sqlalchemy/util/langhelpers.py\u001b[0m, in \u001b[0;32m__exit__\u001b[0m:\nLine \u001b[0;34m72\u001b[0m:    with_traceback=exc_tb,\n",
      "File \u001b[0;34m/home/nemecys/anaconda3/lib/python3.7/site-packages/sqlalchemy/util/compat.py\u001b[0m, in \u001b[0;32mraise_\u001b[0m:\nLine \u001b[0;34m211\u001b[0m:   \u001b[34mraise\u001b[39;49;00m exception\n",
      "File \u001b[0;34m/home/nemecys/anaconda3/lib/python3.7/site-packages/sqlalchemy/pool/base.py\u001b[0m, in \u001b[0;32m__connect\u001b[0m:\nLine \u001b[0;34m599\u001b[0m:   connection = pool._invoke_creator(\u001b[36mself\u001b[39;49;00m)\n",
      "File \u001b[0;34m/home/nemecys/anaconda3/lib/python3.7/site-packages/sqlalchemy/engine/create.py\u001b[0m, in \u001b[0;32mconnect\u001b[0m:\nLine \u001b[0;34m578\u001b[0m:   \u001b[34mreturn\u001b[39;49;00m dialect.connect(*cargs, **cparams)\n",
      "File \u001b[0;34m/home/nemecys/anaconda3/lib/python3.7/site-packages/sqlalchemy/engine/default.py\u001b[0m, in \u001b[0;32mconnect\u001b[0m:\nLine \u001b[0;34m558\u001b[0m:   \u001b[34mreturn\u001b[39;49;00m \u001b[36mself\u001b[39;49;00m.dbapi.connect(*cargs, **cparams)\n",
      "\u001b[0;31mTypeError\u001b[0m: __init__() got an unexpected keyword argument 'driver'\n\u001b[0;31m---------------------------------------------------------------------------\u001b[0m"
     ]
    }
   ],
   "source": [
    "fetch_matches_iterate(21570708,5,instance,engine)"
   ]
  }
 ],
 "metadata": {
  "kernelspec": {
   "display_name": "Python 3.7 (XPython)",
   "language": "python",
   "name": "xpython"
  },
  "language_info": {
   "file_extension": ".py",
   "mimetype": "text/x-python",
   "name": "python",
   "version": "3.7.10"
  },
  "toc-autonumbering": false,
  "toc-showcode": true,
  "toc-showmarkdowntxt": true
 },
 "nbformat": 4,
 "nbformat_minor": 4
}
