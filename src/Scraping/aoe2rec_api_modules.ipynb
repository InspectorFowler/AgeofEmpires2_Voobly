{
 "cells": [
  {
   "cell_type": "markdown",
   "metadata": {},
   "source": [
    "# __Age of Empires II aoe2recs.com API modules__"
   ]
  },
  {
   "cell_type": "markdown",
   "metadata": {},
   "source": [
    "## __Define functions__\n",
    "1. **Database** - Setup database connection strings and variables. Might have to change based on OS (Linux/Win)\n",
    "2. **Fetch match details** - Call API and fetch match details"
   ]
  },
  {
   "cell_type": "markdown",
   "metadata": {},
   "source": [
    "### __1. Database :__"
   ]
  },
  {
   "cell_type": "code",
   "execution_count": 50,
   "metadata": {},
   "outputs": [],
   "source": [
    "def setup_mongo_conn():\n",
    "    \n",
    "    client = MongoClient('mongodb://localhost:27017/?readPreference=primary&appname=MongoDB%20Compass&ssl=false')    \n",
    "    return(client)\n",
    "\n",
    "def insert_match_mongo(match_data, db_conn):\n",
    "    \n",
    "    db_conn.aoe2.matches.insert_one(match_data) \n",
    "    \n",
    "def fetch_latest_match_id_aoe2recs(db_conn):\n",
    "    \n",
    "    match_id = db_conn.aoe2.matches.find_one(sort=[(\"id\", -1)])['id']\n",
    "    return(match_id)"
   ]
  },
  {
   "cell_type": "markdown",
   "metadata": {},
   "source": [
    "### __2. Fetch match details:__"
   ]
  },
  {
   "cell_type": "code",
   "execution_count": 45,
   "metadata": {},
   "outputs": [],
   "source": [
    "def fetch_all_match_details_aoe2recs(match_id,query):\n",
    "    \n",
    "    query = query.replace('$$__$$',str(match_id))\n",
    "    url = 'https://aoe2recs.com/api'\n",
    "    res = requests.post(url, json={'query': query}).text\n",
    "    res = json.loads(res)['data']['match']\n",
    "    \n",
    "    if res is None:\n",
    "        res = {'id': -999}\n",
    "        \n",
    "    return(res)"
   ]
  },
  {
   "cell_type": "code",
   "execution_count": 54,
   "metadata": {},
   "outputs": [],
   "source": [
    "def fetch_matches_iterate_aoe2recs(start,collect,db_conn):\n",
    "    \n",
    "    with open(\"/home/nemecys/Documents/GitHub/AgeofEmpires2_Voobly/Input/aoe2recs_match_data_query.txt\", \"r\", encoding=\"utf-8\") as text:\n",
    "        query = text.read()\n",
    "    \n",
    "    for index in tqdm(range(collect),miniters = 1,bar_format='{desc:<5.5}{percentage:3.0f}%|{bar:60}{r_bar}'):\n",
    "        \n",
    "        # Fetch match details\n",
    "        match_data = fetch_all_match_details_aoe2recs(start,query)\n",
    "        \n",
    "        # Write to mongoDB\n",
    "        insert_match_mongo(match_data,db_conn)\n",
    "        \n",
    "        # Next iteration\n",
    "        start+=1\n",
    "    \n",
    "    print('\\nDONE !')\n",
    "    print('\\nAOE2 MATCHES DOWNLOADED : ' + str(collect))    "
   ]
  }
 ],
 "metadata": {
  "kernelspec": {
   "display_name": "Python 3",
   "language": "python",
   "name": "python3"
  },
  "language_info": {
   "codemirror_mode": {
    "name": "ipython",
    "version": 3
   },
   "file_extension": ".py",
   "mimetype": "text/x-python",
   "name": "python",
   "nbconvert_exporter": "python",
   "pygments_lexer": "ipython3",
   "version": "3.7.10"
  }
 },
 "nbformat": 4,
 "nbformat_minor": 4
}
