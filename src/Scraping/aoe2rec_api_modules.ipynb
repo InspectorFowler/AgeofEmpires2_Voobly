{
 "cells": [
  {
   "cell_type": "markdown",
   "metadata": {},
   "source": [
    "# __Age of Empires II aoe2recs.com API modules__"
   ]
  },
  {
   "cell_type": "markdown",
   "metadata": {},
   "source": [
    "## __Define functions__\n",
    "1. **Database** - Setup database connection strings and variables. Might have to change based on OS (Linux/Win)\n",
    "2. **Fetch match details** - Call API and fetch match details"
   ]
  },
  {
   "cell_type": "markdown",
   "metadata": {},
   "source": [
    "### __0. Proxies/User agents :__"
   ]
  },
  {
   "cell_type": "code",
   "execution_count": null,
   "metadata": {},
   "outputs": [],
   "source": [
    "def fetch_proxies(top = 100, https = True):   \n",
    "\n",
    "    headers = {'User-Agent': 'Mozilla/5.0 (Windows NT 10.0; Win64; x64) AppleWebKit/537.36 (KHTML, like Gecko) Chrome/70.0.3538.77 Safari/537.36'}    \n",
    "    URL = \"https://free-proxy-list.net/\"\n",
    "    req = requests.get(URL, headers = headers)\n",
    "    soup = BeautifulSoup(req.text, \"lxml\")\n",
    "\n",
    "    for body in soup(\"tbody\"):\n",
    "        body.unwrap()\n",
    "\n",
    "    df = pd.read_html(str(soup), flavor=\"bs4\")\n",
    "    df = pd.DataFrame(df[0])\n",
    "    \n",
    "    # Filter to HTTPS if necessary\n",
    "    if https:\n",
    "        proxies = df[(df.Https == 'yes')]\n",
    "    else:\n",
    "        proxies = df[(df.Https == 'no')]\n",
    "        \n",
    "    return(proxies[1:top])"
   ]
  },
  {
   "cell_type": "code",
   "execution_count": null,
   "metadata": {},
   "outputs": [],
   "source": [
    "def fetch_user_agents():\n",
    "\n",
    "    # Set up user agent/header\n",
    "    headers = {'User-Agent': 'Mozilla/5.0 (Windows NT 10.0; Win64; x64) AppleWebKit/537.36 (KHTML, like Gecko) Chrome/70.0.3538.77 Safari/537.36'}    \n",
    "    URL = \"https://developers.whatismybrowser.com/useragents/explore/operating_system_name/windows/\"\n",
    "    \n",
    "    # Fetch popular user agents\n",
    "    req = requests.get(URL, headers = headers)\n",
    "    soup = BeautifulSoup(req.text, \"lxml\")\n",
    "    table = soup.find(lambda tag: tag.name=='table') \n",
    "\n",
    "    # Format\n",
    "    uas = pd.DataFrame(pd.read_html(str(table), flavor=\"bs4\")[0])\n",
    "    \n",
    "    # return\n",
    "    return(uas)"
   ]
  },
  {
   "cell_type": "markdown",
   "metadata": {},
   "source": [
    "### __1. Database :__"
   ]
  },
  {
   "cell_type": "code",
   "execution_count": 50,
   "metadata": {},
   "outputs": [],
   "source": [
    "def setup_mongo_conn():\n",
    "    \n",
    "    client = MongoClient(os.environ['mongopath'])    \n",
    "    return(client)"
   ]
  },
  {
   "cell_type": "markdown",
   "metadata": {},
   "source": [
    "### __2. Read/delete/update matches :__"
   ]
  },
  {
   "cell_type": "code",
   "execution_count": null,
   "metadata": {},
   "outputs": [],
   "source": [
    "def insert_match_mongo(match_data, db_conn):\n",
    "    \n",
    "    db_conn.aoe2.matches.insert_one(match_data) \n",
    "    \n",
    "def fetch_latest_match_id_aoe2recs(db_conn):\n",
    "    \n",
    "    match_id = db_conn.aoe2.matches.find_one(sort=[(\"id\", -1)])['id']\n",
    "    return(match_id)\n",
    "\n",
    "def delete_invalid_match_mongo(db_conn):\n",
    "    \n",
    "    db_conn.aoe2.matches.delete_many({\"id\": -999})\n",
    "    print('Invalid entries deleted !')"
   ]
  },
  {
   "cell_type": "code",
   "execution_count": null,
   "metadata": {},
   "outputs": [],
   "source": [
    "def fetch_missing_match_ids(db_conn):\n",
    "    \n",
    "    # Fetch all match ids\n",
    "    ids = []\n",
    "    for i in db_conn.aoe2.matches.find({'id':{'$gt': 0}}).sort('id'):\n",
    "        ids.append(int(i['id']))\n",
    "        \n",
    "    # All possible match ids\n",
    "    all_ids = list(np.array(range(1,fetch_latest_match_id_aoe2recs(db_conn))))\n",
    "    \n",
    "    # missing matches\n",
    "    miss_ids = set(all_ids).difference(ids)\n",
    "    \n",
    "    #return\n",
    "    return(miss_ids)"
   ]
  },
  {
   "cell_type": "markdown",
   "metadata": {},
   "source": [
    "### __2. Fetch match details:__"
   ]
  },
  {
   "cell_type": "code",
   "execution_count": 45,
   "metadata": {
    "tags": []
   },
   "outputs": [],
   "source": [
    "def fetch_all_match_details_aoe2recs(match_id,query,proxy = None, ua = None):\n",
    "    \n",
    "    # Set session    \n",
    "    s = requests.session()\n",
    "    if ua != None:\n",
    "        s.headers.update({'User-Agent': ua})                        \n",
    "    if proxy != None:\n",
    "        s.proxies.update(proxy)\n",
    "    \n",
    "    #Fetch from API\n",
    "    res = s.post('https://aoe2recs.com/api', json={'query': query.replace('$$__$$',str(match_id))}).text\n",
    "    res = json.loads(res)['data']['match']\n",
    "    \n",
    "    # Clear cookies\n",
    "    s.cookies.clear()\n",
    "    \n",
    "    if res is None:\n",
    "        res = {'id': -999}\n",
    "        \n",
    "    return(res)"
   ]
  },
  {
   "cell_type": "code",
   "execution_count": null,
   "metadata": {},
   "outputs": [],
   "source": [
    "def fetch_matches_iterate_aoe2recs(db_conn, collect = 1, type = 'new', clean_empty = True, cores = 4, proxy = None, ua = None, progress_bar = True):\n",
    "    \n",
    "    # CLean empty entries\n",
    "    if clean_empty:\n",
    "        delete_invalid_match_mongo(db_conn)\n",
    "    \n",
    "    # Function to fetch match details and insert to mongoDB\n",
    "    def parallel_fetch(match_id,query,proxy,ua):   \n",
    "        \n",
    "        # Fetch match data\n",
    "        match_data = fetch_all_match_details_aoe2recs(match_id,query,proxy,ua)\n",
    "        \n",
    "        # Setup Mongo connection\n",
    "        db_conn = MongoClient(os.environ['mongopath'])          \n",
    "        insert_match_mongo(match_data,db_conn)\n",
    "    \n",
    "    # Read query\n",
    "    with open('/Projects/AgeofEmpires2_Voobly/Input/aoe2recs_match_data_query.txt', \"r\", encoding=\"utf-8\") as text:\n",
    "        query = text.read()\n",
    "        \n",
    "    if type == 'new':\n",
    "         # Find last fetched match ID\n",
    "        start = fetch_latest_match_id_aoe2recs(db_conn) + 1\n",
    "\n",
    "        match_list = list(range(start,start+collect))\n",
    "    elif type == 'missing':                \n",
    "        match_list = fetch_missing_match_ids(db_conn)\n",
    "        \n",
    "    if progress_bar:    \n",
    "        inputs = tqdm(match_list,miniters = 1,bar_format='{desc:<5.5}{percentage:3.0f}%|{bar:60}{r_bar}')\n",
    "    else:\n",
    "        inputs = match_list\n",
    "    \n",
    "    # Parallel fetch matches\n",
    "    if __name__ == \"__main__\":\n",
    "        processed_list = Parallel(n_jobs=cores)(delayed(parallel_fetch)(i,query,proxy,ua) for i in inputs)\n",
    "    \n",
    "    print('\\nDONE !')\n",
    "    print('\\nAOE2 MATCHES DOWNLOADED : ' + str(collect))   "
   ]
  }
 ],
 "metadata": {
  "kernelspec": {
   "display_name": "Python 3",
   "language": "python",
   "name": "python3"
  },
  "language_info": {
   "codemirror_mode": {
    "name": "ipython",
    "version": 3
   },
   "file_extension": ".py",
   "mimetype": "text/x-python",
   "name": "python",
   "nbconvert_exporter": "python",
   "pygments_lexer": "ipython3",
   "version": "3.8.8"
  }
 },
 "nbformat": 4,
 "nbformat_minor": 4
}
