{
 "cells": [
  {
   "cell_type": "markdown",
   "metadata": {},
   "source": [
    "# __Age of Empires II aoe2recs.com API modules__"
   ]
  },
  {
   "cell_type": "markdown",
   "metadata": {},
   "source": [
    "## __Define functions__\n",
    "1. **Database** - Setup database connection strings and variables. Might have to change based on OS (Linux/Win)\n",
    "2. **Fetch match details** - Call API and fetch match details"
   ]
  },
  {
   "cell_type": "markdown",
   "metadata": {},
   "source": [
    "### __1. Database :__"
   ]
  },
  {
   "cell_type": "code",
   "execution_count": 50,
   "metadata": {},
   "outputs": [],
   "source": [
    "def setup_mongo_conn():\n",
    "    \n",
    "    client = MongoClient(os.environ['mongopath'])    \n",
    "    return(client)"
   ]
  },
  {
   "cell_type": "markdown",
   "metadata": {},
   "source": [
    "### __2. Read/delete/update matches :__"
   ]
  },
  {
   "cell_type": "code",
   "execution_count": null,
   "metadata": {},
   "outputs": [],
   "source": [
    "def insert_match_mongo(match_data, db_conn):\n",
    "    \n",
    "    db_conn.aoe2.matches.insert_one(match_data) \n",
    "    \n",
    "def fetch_latest_match_id_aoe2recs(db_conn):\n",
    "    \n",
    "    match_id = db_conn.aoe2.matches.find_one(sort=[(\"id\", -1)])['id']\n",
    "    return(match_id)\n",
    "\n",
    "def fetch_missing_match_ids(db_conn):\n",
    "    \n",
    "    # Fetch all match ids\n",
    "    ids = []\n",
    "    for i in db_conn.aoe2.matches.find({'id':{'$gt': 0}}).sort('id'):\n",
    "        ids.append(int(i['id']))\n",
    "        \n",
    "    # All possible match ids\n",
    "    all_ids = list(np.array(range(1,fetch_latest_match_id_aoe2recs(db_conn))))\n",
    "    \n",
    "    # missing matches\n",
    "    miss_ids = set(all_ids).difference(ids)\n",
    "    \n",
    "    #return\n",
    "    return(miss_ids)\n",
    "\n",
    "def fetch_missing_match_ids(db_conn):\n",
    "    \n",
    "    # Fetch all match ids\n",
    "    ids = []\n",
    "    for i in db_conn.aoe2.matches.find({'id':{'$gt': 0}}).sort('id'):\n",
    "        ids.append(int(i['id']))\n",
    "        \n",
    "    # All possible match ids\n",
    "    all_ids = list(np.array(range(1,fetch_latest_match_id_aoe2recs(db_conn))))\n",
    "    \n",
    "    # missing matches\n",
    "    miss_ids = set(all_ids).difference(ids)\n",
    "    \n",
    "    #return\n",
    "    return(miss_ids)"
   ]
  },
  {
   "cell_type": "markdown",
   "metadata": {},
   "source": [
    "### __2. Fetch match details:__"
   ]
  },
  {
   "cell_type": "code",
   "execution_count": 45,
   "metadata": {
    "tags": []
   },
   "outputs": [],
   "source": [
    "def fetch_all_match_details_aoe2recs(match_id,query):\n",
    "    \n",
    "    query = query.replace('$$__$$',str(match_id))\n",
    "    url = 'https://aoe2recs.com/api'\n",
    "    res = requests.post(url, json={'query': query}).text\n",
    "    res = json.loads(res)['data']['match']\n",
    "    \n",
    "    if res is None:\n",
    "        res = {'id': -999}\n",
    "        \n",
    "    return(res)"
   ]
  },
  {
   "cell_type": "code",
   "execution_count": null,
   "metadata": {},
   "outputs": [],
   "source": [
    "def fetch_matches_iterate_aoe2recs(db_conn, collect = 10, type = 'new', clean_empty = True, cores = 4):\n",
    "    \n",
    "    # CLean empty entries\n",
    "    if clean_empty:\n",
    "        db_conn.aoe2.matches.delete_many({\"id\": -999})\n",
    "    \n",
    "    # Function to fetch match details and insert to mongoDB\n",
    "    def parallel_fetch(match_id,query):   \n",
    "        \n",
    "        db_conn = MongoClient(os.environ['mongopath'])  \n",
    "        match_data = fetch_all_match_details_aoe2recs(match_id,query)\n",
    "        insert_match_mongo(match_data,db_conn)\n",
    "    \n",
    "    # Read query\n",
    "    with open('/Projects/AgeofEmpires2_Voobly/Input/aoe2recs_match_data_query.txt', \"r\", encoding=\"utf-8\") as text:\n",
    "        query = text.read()\n",
    "        \n",
    "    if type == 'new':\n",
    "         # Find last fetched match ID\n",
    "        start = fetch_latest_match_id_aoe2recs(db_conn) + 1\n",
    "\n",
    "        match_list = list(range(start,start+collect))\n",
    "    elif type == 'missing':\n",
    "                \n",
    "        match_list = fetch_missing_match_ids(db_conn)\n",
    "        \n",
    "    inputs = tqdm(match_list,miniters = 1,bar_format='{desc:<5.5}{percentage:3.0f}%|{bar:60}{r_bar}')\n",
    "    \n",
    "    # Parallel fetch matches\n",
    "    if __name__ == \"__main__\":\n",
    "        processed_list = Parallel(n_jobs=cores)(delayed(parallel_fetch)(i,query) for i in inputs)\n",
    "    \n",
    "    print('\\nDONE !')\n",
    "    print('\\nAOE2 MATCHES DOWNLOADED : ' + str(collect))   "
   ]
  }
 ],
 "metadata": {
  "kernelspec": {
   "display_name": "Python 3",
   "language": "python",
   "name": "python3"
  },
  "language_info": {
   "codemirror_mode": {
    "name": "ipython",
    "version": 3
   },
   "file_extension": ".py",
   "mimetype": "text/x-python",
   "name": "python",
   "nbconvert_exporter": "python",
   "pygments_lexer": "ipython3",
   "version": "3.8.8"
  }
 },
 "nbformat": 4,
 "nbformat_minor": 4
}
