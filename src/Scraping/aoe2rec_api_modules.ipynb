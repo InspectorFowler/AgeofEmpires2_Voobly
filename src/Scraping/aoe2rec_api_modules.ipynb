{
 "cells": [
  {
   "cell_type": "markdown",
   "metadata": {},
   "source": [
    "# __Age of Empires II aoe2recs.com API modules__"
   ]
  },
  {
   "cell_type": "markdown",
   "metadata": {},
   "source": [
    "## __Define functions__\n",
    "1. **Database** - Setup database connection strings and variables. Might have to change based on OS (Linux/Win)\n",
    "2. **Fetch match details** - Call API and fetch match details"
   ]
  },
  {
   "cell_type": "markdown",
   "metadata": {},
   "source": [
    "### __0. Proxies/User agents :__"
   ]
  },
  {
   "cell_type": "code",
   "execution_count": null,
   "metadata": {},
   "outputs": [],
   "source": [
    "def fetch_proxies(top = 100, https = True):   \n",
    "\n",
    "    headers = {'User-Agent': 'Mozilla/5.0 (Windows NT 10.0; Win64; x64) AppleWebKit/537.36 (KHTML, like Gecko) Chrome/70.0.3538.77 Safari/537.36'}    \n",
    "    URL = \"https://free-proxy-list.net/\"\n",
    "    req = requests.get(URL, headers = headers)\n",
    "    soup = BeautifulSoup(req.text, \"lxml\")\n",
    "\n",
    "    for body in soup(\"tbody\"):\n",
    "        body.unwrap()\n",
    "\n",
    "    df = pd.read_html(str(soup), flavor=\"bs4\")\n",
    "    df = pd.DataFrame(df[0])\n",
    "    \n",
    "    # Filter to HTTPS if necessary\n",
    "    if https:\n",
    "        proxies = df[(df.Https == 'yes')]\n",
    "    else:\n",
    "        proxies = df[(df.Https == 'no')]\n",
    "        \n",
    "    return(proxies[1:top])"
   ]
  },
  {
   "cell_type": "code",
   "execution_count": null,
   "metadata": {},
   "outputs": [],
   "source": [
    "def fetch_user_agents():\n",
    "\n",
    "    # Set up user agent/header\n",
    "    headers = {'User-Agent': 'Mozilla/5.0 (Windows NT 10.0; Win64; x64) AppleWebKit/537.36 (KHTML, like Gecko) Chrome/70.0.3538.77 Safari/537.36'}    \n",
    "    URL = \"https://developers.whatismybrowser.com/useragents/explore/operating_system_name/windows/\"\n",
    "    \n",
    "    # Fetch popular user agents\n",
    "    req = requests.get(URL, headers = headers)\n",
    "    soup = BeautifulSoup(req.text, \"lxml\")\n",
    "    table = soup.find(lambda tag: tag.name=='table') \n",
    "\n",
    "    # Format\n",
    "    uas = pd.DataFrame(pd.read_html(str(table), flavor=\"bs4\")[0])\n",
    "    \n",
    "    # return\n",
    "    return(uas)"
   ]
  },
  {
   "cell_type": "markdown",
   "metadata": {},
   "source": [
    "### __1. Database :__"
   ]
  },
  {
   "cell_type": "code",
   "execution_count": 50,
   "metadata": {},
   "outputs": [],
   "source": [
    "def setup_mongo_conn():\n",
    "    \n",
    "    client = MongoClient(os.environ['mongopath'])    \n",
    "    return(client)"
   ]
  },
  {
   "cell_type": "markdown",
   "metadata": {},
   "source": [
    "### __2. Read/delete/update matches :__"
   ]
  },
  {
   "cell_type": "code",
   "execution_count": null,
   "metadata": {},
   "outputs": [],
   "source": [
    "def insert_match_mongo(match_data, db_conn):\n",
    "    \n",
    "    db_conn.aoe2.matches.insert_one(match_data) \n",
    "    \n",
    "def fetch_latest_match_id_aoe2recs(db_conn):\n",
    "    \n",
    "    match_id = db_conn.aoe2.matches.find_one(sort=[(\"id\", -1)])['id']\n",
    "    return(match_id)\n",
    "\n",
    "def delete_invalid_match_mongo(db_conn):\n",
    "    \n",
    "    db_conn.aoe2.matches.delete_many({\"id\": -999})\n",
    "    print('Invalid entries deleted !')"
   ]
  },
  {
   "cell_type": "code",
   "execution_count": null,
   "metadata": {},
   "outputs": [],
   "source": [
    "def insert_multiple_match_mongo(m_match_data, db_conn):\n",
    "    \n",
    "    for res in m_match_data:\n",
    "        if res is None:\n",
    "            db_conn.aoe2.matches.insert_one({'id': -999}) \n",
    "        else:\n",
    "            db_conn.aoe2.matches.insert_one(res)                "
   ]
  },
  {
   "cell_type": "code",
   "execution_count": null,
   "metadata": {},
   "outputs": [],
   "source": [
    "def fetch_missing_match_ids(db_conn):\n",
    "    \n",
    "    # Fetch all match ids\n",
    "    ids = []\n",
    "    for i in db_conn.aoe2.matches.find({'id':{'$gt': 0}}).sort('id'):\n",
    "        ids.append(int(i['id']))\n",
    "        \n",
    "    # All possible match ids\n",
    "    all_ids = list(np.array(range(1,fetch_latest_match_id_aoe2recs(db_conn))))\n",
    "    \n",
    "    # missing matches\n",
    "    miss_ids = set(all_ids).difference(ids)\n",
    "    \n",
    "    #return\n",
    "    return(miss_ids)"
   ]
  },
  {
   "cell_type": "markdown",
   "metadata": {},
   "source": [
    "### __2. Fetch match details:__"
   ]
  },
  {
   "cell_type": "code",
   "execution_count": 45,
   "metadata": {
    "tags": []
   },
   "outputs": [],
   "source": [
    "def fetch_all_match_details_aoe2recs(match_id,query,proxy = None, ua = None):\n",
    "    \n",
    "    # Set session    \n",
    "    s = requests.session()\n",
    "    if ua != None:\n",
    "        s.headers.update({'User-Agent': ua})                        \n",
    "    if proxy != None:\n",
    "        s.proxies.update(proxy)\n",
    "    \n",
    "    #Fetch from API\n",
    "    res = s.post('https://aoe2recs.com/api', json={'query': query.replace('$$__$$',str(match_id))}).text\n",
    "    res = json.loads(res)['data']['match']\n",
    "    \n",
    "    # Clear cookies\n",
    "    s.cookies.clear()\n",
    "    \n",
    "    if res is None:\n",
    "        res = {'id': -999}\n",
    "        \n",
    "    return(res)"
   ]
  },
  {
   "cell_type": "code",
   "execution_count": null,
   "metadata": {},
   "outputs": [],
   "source": [
    "def fetch_matches_iterate_aoe2recs(db_conn, collect = 1, type = 'new', clean_empty = True, cores = 4, proxy = None, ua = None, progress_bar = True):\n",
    "    \n",
    "    # CLean empty entries\n",
    "    if clean_empty:\n",
    "        delete_invalid_match_mongo(db_conn)\n",
    "    \n",
    "    # Function to fetch match details and insert to mongoDB\n",
    "    def parallel_fetch(match_id,query,proxy,ua):   \n",
    "        \n",
    "        # Fetch match data\n",
    "        match_data = fetch_all_match_details_aoe2recs(match_id,query,proxy,ua)\n",
    "        \n",
    "        # Setup Mongo connection\n",
    "        db_conn = MongoClient(os.environ['mongopath'])          \n",
    "        insert_match_mongo(match_data,db_conn)\n",
    "    \n",
    "    # Read query\n",
    "    with open('/Projects/AgeofEmpires2_Voobly/Input/aoe2recs_match_data_query.txt', \"r\", encoding=\"utf-8\") as text:\n",
    "        query = text.read()\n",
    "        \n",
    "    if type == 'new':\n",
    "         # Find last fetched match ID\n",
    "        start = fetch_latest_match_id_aoe2recs(db_conn) + 1\n",
    "\n",
    "        match_list = list(range(start,start+collect))\n",
    "    elif type == 'missing':                \n",
    "        match_list = fetch_missing_match_ids(db_conn)\n",
    "        \n",
    "    if progress_bar:    \n",
    "        inputs = tqdm(match_list,miniters = 1,bar_format='{desc:<5.5}{percentage:3.0f}%|{bar:60}{r_bar}')\n",
    "    else:\n",
    "        inputs = match_list\n",
    "    \n",
    "    # Parallel fetch matches\n",
    "    if __name__ == \"__main__\":\n",
    "        processed_list = Parallel(n_jobs=cores)(delayed(parallel_fetch)(i,query,proxy,ua) for i in inputs)\n",
    "    \n",
    "    print('\\nDONE !')\n",
    "    print('\\nAOE2 MATCHES DOWNLOADED : ' + str(collect))   "
   ]
  },
  {
   "cell_type": "markdown",
   "metadata": {},
   "source": [
    "### __3. Fetch multiple match details:__"
   ]
  },
  {
   "cell_type": "code",
   "execution_count": null,
   "metadata": {},
   "outputs": [],
   "source": [
    "def fetch_all_multiple_match_details_aoe2recs(matches,match_query,proxy = None, ua = None):\n",
    "    \n",
    "    # Create query\n",
    "    query = ''\n",
    "    for x in matches:\n",
    "        query = query + '\\n match' + str(x) + ' : ' + match_query.replace('$$__$$',str(x))\n",
    "    query = 'query {' + query + '\\n}'    \n",
    "    \n",
    "    # Set session    \n",
    "    s = requests.session()\n",
    "    if ua != None:\n",
    "        s.headers.update({'User-Agent': ua})                        \n",
    "    if proxy != None:\n",
    "        s.proxies.update(proxy)\n",
    "    \n",
    "    # Fetch\n",
    "    res = s.post('https://aoe2recs.com/api', json={'query': query}).text\n",
    "    mres = []\n",
    "    for x in matches : mres.append(json.loads(res)['data']['match'+str(x)])\n",
    "    \n",
    "    # Clear cookies\n",
    "    s.cookies.clear()\n",
    "            \n",
    "    return(mres)"
   ]
  },
  {
   "cell_type": "code",
   "execution_count": null,
   "metadata": {},
   "outputs": [],
   "source": [
    "def fetch_multiple_matches_iterate_aoe2recs(db_conn, collect = 30, batch_size = 20, clean_empty = True, proxy_list = None, uas_list = None):\n",
    "        \n",
    "    # CLean empty entries\n",
    "    if clean_empty : delete_invalid_match_mongo(db_conn)\n",
    "        \n",
    "    # Proxy iterator\n",
    "    proxies = []\n",
    "\n",
    "    for index, row in proxy_list.iterrows():\n",
    "        proxies.append({'http' : 'http://' + row['IP Address'] + ':' + str(row['Port'])})\n",
    "    \n",
    "    proxy_cycle = cycle(proxies)        \n",
    "    \n",
    "    # User agent iterator\n",
    "    uas_cycle = cycle(uas_list['User agent'])    \n",
    "        \n",
    "    # Read query\n",
    "    with open('/Projects/AgeofEmpires2_Voobly/Input/aoe2recs_multiple_match_data_query.txt', \"r\", encoding=\"utf-8\") as text:\n",
    "        query = text.read()    \n",
    "    \n",
    "    # Fetch latest match ID\n",
    "    match_start_id = fetch_latest_match_id_aoe2recs(db_conn) + 1\n",
    "    \n",
    "    # Create match batches\n",
    "    iters = np.array(range(0,math.floor(collect/batch_size)))*batch_size\n",
    "    \n",
    "    matches = []\n",
    "    for i in iters : matches.append(np.array(range(i,batch_size+i))+match_start_id)\n",
    "\n",
    "    last_match_complete = matches[len(iters)-1].max()\n",
    "    last_match = match_start_id+collect\n",
    "\n",
    "    if last_match != last_match_complete: matches.append(np.array(range(last_match_complete+1, last_match)))\n",
    "     \n",
    "    # Iterator\n",
    "    total_batches = tqdm(np.array(range(0,len(matches))),miniters = 1,bar_format='{desc:<5.5}{percentage:3.0f}%|{bar:60}{r_bar}')\n",
    "    \n",
    "    for i in total_batches:\n",
    "        \n",
    "        fail_counter = 0\n",
    "        fail_flag = True\n",
    "        \n",
    "        # Proxy\n",
    "        proxy = next(proxy_cycle)\n",
    "\n",
    "        # User agent\n",
    "        ua = next(uas_cycle)\n",
    "        \n",
    "        while fail_flag: \n",
    "            \n",
    "            try : \n",
    "                # Proxy\n",
    "                proxy = next(proxy_cycle)\n",
    "\n",
    "                # User agent\n",
    "                ua = next(uas_cycle)\n",
    "\n",
    "                # Fetch match data\n",
    "                match_data = fetch_all_multiple_match_details_aoe2recs(matches[i],query,proxy,ua)\n",
    "                \n",
    "                # Insert to DB\n",
    "                insert_multiple_match_mongo(match_data,db_conn)\n",
    "                \n",
    "                fail_flag = False\n",
    "                \n",
    "            except:\n",
    "\n",
    "                # If more than 10 retires then sleep for a while else retry\n",
    "                if(fail_counter > 10):\n",
    "                    time.sleep(75)\n",
    "                else:\n",
    "                    fail_counter+=1                      \n",
    "    \n",
    "    print('\\nDONE !')\n",
    "    print('\\nAOE2 MATCHES DOWNLOADED : ' + str(collect))   "
   ]
  }
 ],
 "metadata": {
  "kernelspec": {
   "display_name": "Python 3",
   "language": "python",
   "name": "python3"
  },
  "language_info": {
   "codemirror_mode": {
    "name": "ipython",
    "version": 3
   },
   "file_extension": ".py",
   "mimetype": "text/x-python",
   "name": "python",
   "nbconvert_exporter": "python",
   "pygments_lexer": "ipython3",
   "version": "3.8.8"
  }
 },
 "nbformat": 4,
 "nbformat_minor": 4
}
