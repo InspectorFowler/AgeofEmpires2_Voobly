{
 "cells": [
  {
   "cell_type": "markdown",
   "metadata": {},
   "source": [
    "# __Age of Empires II aoe2recs.com API modules__"
   ]
  },
  {
   "cell_type": "markdown",
   "metadata": {},
   "source": [
    "## __Define functions__\n",
    "1. **Proxy** - Setup proxy settings by randomly picking a proxy/port from online list\n",
    "2. **Database** - Setup database connection strings and variables. Might have to change based on OS (Linux/Win)\n",
    "3. **Login** - login to the main page using existing credentials\n",
    "4. **Pick lobbies & ladders to scrape** - Focus would be on New player and RM/DM lobbies & RM and DM 1x1 ladders which are the most competitive ranked ladders\n",
    "5. **Iterate over players and fetch match details** - Match details to include post match economy, military stats along with win/loss records and civilizations picked. "
   ]
  },
  {
   "cell_type": "code",
   "execution_count": 44,
   "metadata": {},
   "outputs": [],
   "source": [
    "with open(\"/home/nemecys/Documents/GitHub/AgeofEmpires2_Voobly/Input/aoe2recs_match_data_query.txt\", \"r\", encoding=\"utf-8\") as text:\n",
    "    query = text.read()"
   ]
  },
  {
   "cell_type": "code",
   "execution_count": 45,
   "metadata": {},
   "outputs": [],
   "source": [
    "def fetch_match_details_aoe2recs(match_id, query):\n",
    "    \n",
    "    query = query.replace('$$__$$',str(match_id))\n",
    "    url = 'https://aoe2recs.com/api'\n",
    "    res = requests.post(url, json={'query': query}).text\n",
    "    res = json.loads(res)['data']['match']    \n",
    "    return(res)"
   ]
  },
  {
   "cell_type": "code",
   "execution_count": 50,
   "metadata": {},
   "outputs": [],
   "source": [
    "def setup_mongo_conn():\n",
    "    \n",
    "    client = MongoClient('mongodb://localhost:27017/?readPreference=primary&appname=MongoDB%20Compass&ssl=false')    \n",
    "    return(client)\n",
    "\n",
    "def insert_match_mongo(match_data, db_conn):\n",
    "    \n",
    "    db_conn.aoe2.matches.insert_one(match_data)\n",
    "    print('\\nDONE !')    "
   ]
  }
 ],
 "metadata": {
  "kernelspec": {
   "display_name": "Python 3",
   "language": "python",
   "name": "python3"
  },
  "language_info": {
   "codemirror_mode": {
    "name": "ipython",
    "version": 3
   },
   "file_extension": ".py",
   "mimetype": "text/x-python",
   "name": "python",
   "nbconvert_exporter": "python",
   "pygments_lexer": "ipython3",
   "version": "3.7.10"
  }
 },
 "nbformat": 4,
 "nbformat_minor": 4
}
