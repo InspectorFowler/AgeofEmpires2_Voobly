{
 "cells": [
  {
   "cell_type": "markdown",
   "metadata": {},
   "source": [
    "# __Fetch Voobly match researches__"
   ]
  },
  {
   "cell_type": "code",
   "execution_count": 1,
   "metadata": {},
   "outputs": [],
   "source": [
    "# Modules\n",
    "from voobly_scraping_modules import *"
   ]
  },
  {
   "cell_type": "code",
   "execution_count": 2,
   "metadata": {},
   "outputs": [],
   "source": [
    "# Voobly connection\n",
    "instance = voobly_login(os.environ['voobly_username'],os.environ['voobly_password'])"
   ]
  },
  {
   "cell_type": "code",
   "execution_count": 39,
   "metadata": {},
   "outputs": [],
   "source": [
    "match_id = 24201288\n",
    "\n",
    "match_page = 'https://www.voobly.com/match/view/'+str(match_id)+'/Researches'\n",
    "obj = instance.open(match_page,timeout = 10)\n",
    "soup = BeautifulSoup(obj.read())\n",
    "stages = soup.find_all('map')"
   ]
  },
  {
   "cell_type": "code",
   "execution_count": 40,
   "metadata": {},
   "outputs": [],
   "source": [
    "all_tags = []\n",
    "for i in stages:\n",
    "    all_tags.append(i.contents)\n",
    "all_tags = [re.sub(\"<area coords=\",\"\",str(x)) for x in all_tags[0]]\n",
    "all_tags = [re.sub(\" shape=\\\"rect\\\" title=\",\"||\",x) for x in all_tags]\n",
    "all_tags = [re.sub(\"\\\"/>\",\"\",x) for x in all_tags]\n",
    "\n",
    "player = [str(x).split(\"||\")[0] for x in all_tags[1:len(all_tags)-1]]\n",
    "research = [str(x).split(\"||\")[1] for x in all_tags[1:len(all_tags)-1]]"
   ]
  }
 ],
 "metadata": {
  "kernelspec": {
   "display_name": "Python 3",
   "language": "python",
   "name": "python3"
  },
  "language_info": {
   "codemirror_mode": {
    "name": "ipython",
    "version": 3
   },
   "file_extension": ".py",
   "mimetype": "text/x-python",
   "name": "python",
   "nbconvert_exporter": "python",
   "pygments_lexer": "ipython3",
   "version": "3.8.8"
  }
 },
 "nbformat": 4,
 "nbformat_minor": 4
}
