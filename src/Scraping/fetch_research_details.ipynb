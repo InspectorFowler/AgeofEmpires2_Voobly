{
 "cells": [
  {
   "cell_type": "markdown",
   "metadata": {},
   "source": [
    "# __Fetch Voobly match researches__"
   ]
  },
  {
   "cell_type": "code",
   "execution_count": null,
   "metadata": {},
   "outputs": [],
   "source": [
    "from ipynb.fs.full.voobly_scraping_modules import voobly_login,setup_sql_conn,fetch_html\n",
    "from ipynb.fs.full.fetch_proxy_list import fetch_proxies\n",
    "from ipynb.fs.full.credentials import credentials\n",
    "\n",
    "from bs4 import BeautifulSoup\n",
    "import re\n",
    "import numpy as np"
   ]
  },
  {
   "cell_type": "code",
   "execution_count": null,
   "metadata": {},
   "outputs": [],
   "source": [
    "# Fetch proxy\n",
    "proxy, port = fetch_proxies()"
   ]
  },
  {
   "cell_type": "code",
   "execution_count": null,
   "metadata": {},
   "outputs": [],
   "source": [
    "# Create connection instance\n",
    "username, password = credentials()\n",
    "instance = voobly_login(username,password,proxy, port)"
   ]
  },
  {
   "cell_type": "code",
   "execution_count": null,
   "metadata": {},
   "outputs": [],
   "source": [
    "match_id = 21271288\n",
    "\n",
    "match_page = 'https://www.voobly.com/match/view/'+str(match_id)+'/Researches'\n",
    "obj = instance.open(match_page,timeout = 10)\n",
    "soup = BeautifulSoup(obj.read())\n",
    "stages = soup.find_all('map')"
   ]
  },
  {
   "cell_type": "code",
   "execution_count": null,
   "metadata": {},
   "outputs": [],
   "source": [
    "all_tags = []\n",
    "for i in stages:\n",
    "    all_tags.append(i.contents)\n",
    "all_tags = [re.sub(\"<area coords=\",\"\",str(x)) for x in all_tags[0]]\n",
    "all_tags = [re.sub(\" shape=\\\"rect\\\" title=\",\"||\",x) for x in all_tags]\n",
    "all_tags = [re.sub(\"\\\"/>\",\"\",x) for x in all_tags]\n",
    "\n",
    "player = [str(x).split(\"||\")[0] for x in all_tags]\n",
    "research = [str(x).split(\"||\")[1] for x in all_tags]\n"
   ]
  },
  {
   "cell_type": "code",
   "execution_count": null,
   "metadata": {},
   "outputs": [],
   "source": [
    "all_tags[np.array([len(x) > 5 for x in all_tags], dtype=bool)]"
   ]
  }
 ],
 "metadata": {
  "kernelspec": {
   "display_name": "Python 3",
   "language": "python",
   "name": "python3"
  },
  "language_info": {
   "codemirror_mode": {
    "name": "ipython",
    "version": 3
   },
   "file_extension": ".py",
   "mimetype": "text/x-python",
   "name": "python",
   "nbconvert_exporter": "python",
   "pygments_lexer": "ipython3",
   "version": "3.8.8"
  }
 },
 "nbformat": 4,
 "nbformat_minor": 4
}
