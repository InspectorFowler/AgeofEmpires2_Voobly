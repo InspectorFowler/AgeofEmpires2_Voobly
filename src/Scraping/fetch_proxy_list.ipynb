{
 "cells": [
  {
   "cell_type": "markdown",
   "metadata": {},
   "source": [
    "# __Fetch proxy list__"
   ]
  },
  {
   "cell_type": "code",
   "execution_count": 78,
   "metadata": {},
   "outputs": [],
   "source": [
    "import random\n",
    "import warnings;\n",
    "warnings.filterwarnings('ignore')\n",
    "\n",
    "import requests\n",
    "from bs4 import BeautifulSoup\n",
    "import pandas as pd"
   ]
  },
  {
   "cell_type": "code",
   "execution_count": 79,
   "metadata": {},
   "outputs": [],
   "source": [
    "def fetch_proxies():   \n",
    "\n",
    "    headers = {'User-Agent': 'Mozilla/5.0 (Windows NT 10.0; Win64; x64) AppleWebKit/537.36 (KHTML, like Gecko) Chrome/70.0.3538.77 Safari/537.36'}\n",
    "    URL = \"https://free-proxy-list.net/\"\n",
    "    req = requests.get(URL, headers = headers) # .json()\n",
    "    soup = BeautifulSoup(req.text, \"lxml\")\n",
    "\n",
    "    for body in soup(\"tbody\"):\n",
    "        body.unwrap()\n",
    "\n",
    "    df = pd.read_html(str(soup), flavor=\"bs4\")\n",
    "    df = pd.DataFrame(df[0])\n",
    "    proxies = df[(df.Https == 'yes')] # (df.Https == 'yes') & (df.Country == 'United States')\n",
    "    proxies['Port'] = proxies['Port'].astype(int)\n",
    "    proxies = proxies[['IP Address','Port']][(proxies['Https']=='yes') & (proxies['Anonymity']=='elite proxy')]\n",
    "    \n",
    "    index = random.randint(0,proxies.shape[0])\n",
    "    \n",
    "    return(str(proxies.iloc[index,]['IP Address']),str(proxies.iloc[index,]['Port']))"
   ]
  }
 ],
 "metadata": {
  "kernelspec": {
   "display_name": "Python 3",
   "language": "python",
   "name": "python3"
  },
  "language_info": {
   "codemirror_mode": {
    "name": "ipython",
    "version": 3
   },
   "file_extension": ".py",
   "mimetype": "text/x-python",
   "name": "python",
   "nbconvert_exporter": "python",
   "pygments_lexer": "ipython3",
   "version": "3.8.5"
  }
 },
 "nbformat": 4,
 "nbformat_minor": 4
}
