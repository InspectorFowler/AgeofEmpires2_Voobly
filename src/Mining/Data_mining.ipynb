{
 "cells": [
  {
   "cell_type": "markdown",
   "metadata": {},
   "source": [
    "# Age of Empires II Voobly Matches Data Exploration"
   ]
  },
  {
   "cell_type": "markdown",
   "metadata": {},
   "source": [
    "## Load libraries and set options/environment"
   ]
  },
  {
   "cell_type": "code",
   "execution_count": 2,
   "metadata": {},
   "outputs": [],
   "source": [
    "# System\n",
    "import sys\n",
    "import os\n",
    "import datetime\n",
    "from datetime import date, timedelta\n",
    "sys.path.append('C:/Users/Parikshit_verma/Documents/GitHub/AgeofEmpires2_Voobly/src/functions')\n",
    "\n",
    "# Custom functions\n",
    "from setup_sql_conn import setup_sql_conn,fetch_sql_data\n",
    "from sql_read import sql_read\n",
    "\n",
    "# Data Wrangling\n",
    "import pandas as pd\n",
    "import numpy as np\n",
    "import re\n",
    "from functools import reduce\n",
    "from pandas_profiling import ProfileReport\n",
    "\n",
    "# Visualization\n",
    "import seaborn as sb\n",
    "import matplotlib.pyplot as plt\n",
    "import plotly\n",
    "\n",
    "# Set options\n",
    "pd.set_option('display.max_rows', 20)\n",
    "pd.set_option('display.max_columns', 500)\n",
    "pd.set_option('display.width', 1000)"
   ]
  },
  {
   "cell_type": "markdown",
   "metadata": {},
   "source": [
    "## Read Data"
   ]
  },
  {
   "cell_type": "code",
   "execution_count": 84,
   "metadata": {},
   "outputs": [
    {
     "name": "stdout",
     "output_type": "stream",
     "text": [
      "Time taken to read from server : 4.1972975730896\n"
     ]
    }
   ],
   "source": [
    "db_conn,db_cursor,engine = setup_sql_conn('localhost','AOE2_VOOBLY')\n",
    "match_data = sql_read('C:/Users/Parikshit_verma/Documents/GitHub/AgeofEmpires2_Voobly/Input/match_data_query.sql',db_conn)"
   ]
  },
  {
   "cell_type": "markdown",
   "metadata": {},
   "source": [
    "## Data Mining & Profiling"
   ]
  },
  {
   "cell_type": "code",
   "execution_count": 85,
   "metadata": {},
   "outputs": [],
   "source": [
    "# Match data cleanup\n",
    "# Civilization dictionary\n",
    "civ_map = ['Aztecs','Berbers','Britons','Bulgarians','Burmese','Byzantines','Celts','Chinese','Cumans','Ethiopians','Franks','Goths','Huns','Incas','Indians'\n",
    "            ,'Italians','Japanese','Khmer','Koreans','Lithuanians','Magyars','Malay','Malians','Mayans','Mongols','Persians','Portuguese','Saracens','Slavs'\n",
    "            ,'Spanish','Tatars','Teutons','Turks','Vietnamese','Vikings']\n",
    "civ_map = {i.upper()[0:3] : i for i in civ_map}\n",
    "\n",
    "match_data = (match_data\n",
    "              .assign(Player_Rating = match_data['New_Rating'] - match_data['Points'],\n",
    "                      Civilization = match_data['Civilization'].map(civ_map),\n",
    "                      Match_date = pd.to_datetime(match_data['Match_date']),\n",
    "                      Match_time = pd.to_datetime(match_data['Match_time'], format='%H:%M:%S').dt.hour)\n",
    "              .drop(['Match_rating','Match_player_no','New_Rating','ladder',\n",
    "                     'Trade_Profit','Tribute_Received','Tribute_Sent',\n",
    "                     'Team'],axis=1)\n",
    "              .dropna(subset=['Civilization']))"
   ]
  },
  {
   "cell_type": "code",
   "execution_count": 87,
   "metadata": {},
   "outputs": [],
   "source": [
    "# Create differenced scores and stats\n",
    "match_data_max = (match_data\n",
    "                  .groupby(['Match_ID'])['Military_Score','Economy_Score','Technology_Score','Society_Score','Total_Score',\n",
    "                                         'Units_Killed','Units_Lost','Buildings_Razed','Buildings_Lost','Units_Converted',\n",
    "                                         'Food','Wood','Stone','Gold',\n",
    "                                         'Map_Explored','Research_Count','Research_Percent',\n",
    "                                         'Total_Wonders','Total_Castles','Relics_Captured','Relic_Gold','Villager_High',\n",
    "                                         'Player_Rating'].max()\n",
    "                  .add_suffix('_max')).reset_index()\n",
    "\n",
    "match_data_min = (match_data\n",
    "                  .groupby(['Match_ID'])['Military_Score','Economy_Score','Technology_Score','Society_Score','Total_Score',\n",
    "                                         'Units_Killed','Units_Lost','Buildings_Razed','Buildings_Lost','Units_Converted',\n",
    "                                         'Food','Wood','Stone','Gold',\n",
    "                                         'Map_Explored','Research_Count','Research_Percent',\n",
    "                                         'Total_Wonders','Total_Castles','Relics_Captured','Relic_Gold','Villager_High',\n",
    "                                         'Player_Rating'].min()\n",
    "                  .add_suffix('_min')).reset_index()\n",
    "\n",
    "match_data = (match_data\n",
    "              .merge(match_data_max,on = 'Match_ID')\n",
    "              .merge(match_data_min,on = 'Match_ID'))"
   ]
  },
  {
   "cell_type": "code",
   "execution_count": 92,
   "metadata": {},
   "outputs": [
    {
     "ename": "SyntaxError",
     "evalue": "invalid syntax (<ipython-input-92-3f55e21f16f0>, line 1)",
     "output_type": "error",
     "traceback": [
      "\u001b[1;36m  File \u001b[1;32m\"<ipython-input-92-3f55e21f16f0>\"\u001b[1;36m, line \u001b[1;32m1\u001b[0m\n\u001b[1;33m    match_data['Military_Score'].apply(lambda x: (match_data['Military_Score'] - match_data['Military_Score_min']) if x condition else (match_data['Military_Score'] - match_data['Military_Score_max']))\u001b[0m\n\u001b[1;37m                                                                                                                                ^\u001b[0m\n\u001b[1;31mSyntaxError\u001b[0m\u001b[1;31m:\u001b[0m invalid syntax\n"
     ]
    }
   ],
   "source": [
    "match_data['Military_Score'].apply(lambda x: (match_data['Military_Score'] - match_data['Military_Score_min']) if x ==  else (match_data['Military_Score'] - match_data['Military_Score_max']))"
   ]
  }
 ],
 "metadata": {
  "kernelspec": {
   "display_name": "Python 3",
   "language": "python",
   "name": "python3"
  },
  "language_info": {
   "codemirror_mode": {
    "name": "ipython",
    "version": 3
   },
   "file_extension": ".py",
   "mimetype": "text/x-python",
   "name": "python",
   "nbconvert_exporter": "python",
   "pygments_lexer": "ipython3",
   "version": "3.7.6"
  }
 },
 "nbformat": 4,
 "nbformat_minor": 4
}
