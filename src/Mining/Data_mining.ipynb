{
 "cells": [
  {
   "cell_type": "markdown",
   "metadata": {},
   "source": [
    "# Age of Empires II Voobly Matches Data Exploration"
   ]
  },
  {
   "cell_type": "markdown",
   "metadata": {},
   "source": [
    "## Load libraries and set options/environment"
   ]
  },
  {
   "cell_type": "code",
   "execution_count": null,
   "metadata": {},
   "outputs": [],
   "source": [
    "# System\n",
    "import sys, os, datetime\n",
    "from datetime import date, timedelta\n",
    "\n",
    "# DB connector\n",
    "import pyodbc, mysql.connector\n",
    "from sqlalchemy import create_engine\n",
    "\n",
    "# Data Wrangling\n",
    "import pandas as pd, numpy as np, re\n",
    "from functools import reduce\n",
    "\n",
    "# Visualization\n",
    "import seaborn as sb, plotly, matplotlib.pyplot as plt\n",
    "\n",
    "# Set options\n",
    "pd.set_option('display.max_rows', 20)\n",
    "pd.set_option('display.max_columns', 500)\n",
    "pd.set_option('display.width', 1000)"
   ]
  },
  {
   "cell_type": "markdown",
   "metadata": {},
   "source": [
    "## Read Data"
   ]
  },
  {
   "cell_type": "code",
   "execution_count": null,
   "metadata": {},
   "outputs": [],
   "source": [
    "server = 'localhost'\n",
    "database = 'AOE2_VOOBLY'\n",
    "user = 'admin'\n",
    "password = 'admin'\n",
    "\n",
    "db_conn = mysql.connector.connect(host = server,\n",
    "                                  port = 3306,\n",
    "                                  user = user,\n",
    "                                  password = password)\n",
    "\n",
    "engine = create_engine(\"mysql+mysqlconnector://\" + user + \":\" + password + \"@\" + server + \"/\" + database)"
   ]
  },
  {
   "cell_type": "code",
   "execution_count": null,
   "metadata": {},
   "outputs": [],
   "source": [
    "voobly_match_data = pd.read_sql('select * from aoe2_voobly.match_data', db_conn)"
   ]
  }
 ],
 "metadata": {
  "kernelspec": {
   "display_name": "Python 3",
   "language": "python",
   "name": "python3"
  },
  "language_info": {
   "codemirror_mode": {
    "name": "ipython",
    "version": 3
   },
   "file_extension": ".py",
   "mimetype": "text/x-python",
   "name": "python",
   "nbconvert_exporter": "python",
   "pygments_lexer": "ipython3",
   "version": "3.8.8"
  }
 },
 "nbformat": 4,
 "nbformat_minor": 4
}
